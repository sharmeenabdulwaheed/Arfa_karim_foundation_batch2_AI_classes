{
 "cells": [
  {
   "cell_type": "code",
   "execution_count": 1,
   "id": "e6f860e3-af69-412b-bdc1-ab3516655df2",
   "metadata": {},
   "outputs": [
    {
     "name": "stdout",
     "output_type": "stream",
     "text": [
      "[1, 2, 3, 4, 8, 9, 0, 5]\n"
     ]
    }
   ],
   "source": [
    "l1=[1,2,3,4]\n",
    "l2=[8,9,0,5]\n",
    "\n",
    "print(l1+l2)\n",
    "#not expected output in case of lists, just concatenation happens\n"
   ]
  },
  {
   "cell_type": "code",
   "execution_count": 3,
   "id": "f1e505b6-c116-4fe8-b7e2-641528cbb0e2",
   "metadata": {},
   "outputs": [],
   "source": [
    "import pandas as pd\n",
    "df=pd.read_csv(\"E://student_dataset.csv\")"
   ]
  },
  {
   "cell_type": "code",
   "execution_count": 4,
   "id": "95d585da-1bb6-4dbe-81b4-2ca867f6fa66",
   "metadata": {},
   "outputs": [
    {
     "name": "stdout",
     "output_type": "stream",
     "text": [
      "[1, 2, 3, 4, 1, 2, 3, 4]\n"
     ]
    }
   ],
   "source": [
    "my_list = [1, 2, 3, 4]\n",
    "print(my_list * 2)  # Output: [1, 2, 3, 4, 1, 2, 3, 4] (concatenation, not element-wise multiplication)\n"
   ]
  },
  {
   "cell_type": "code",
   "execution_count": 5,
   "id": "1bbe1766-4255-48d5-9f1c-5bd47855d51d",
   "metadata": {},
   "outputs": [
    {
     "name": "stdout",
     "output_type": "stream",
     "text": [
      "[2 4 6 8]\n"
     ]
    }
   ],
   "source": [
    "import numpy as np\n",
    "\n",
    "my_array = np.array([1, 2, 3, 4])\n",
    "print(my_array * 2)  # Output: [2 4 6 8] (element-wise multiplication)\n"
   ]
  },
  {
   "cell_type": "code",
   "execution_count": 6,
   "id": "54b21cb2-4e30-4dc7-8b48-ef1c153bbcd8",
   "metadata": {},
   "outputs": [
    {
     "name": "stdout",
     "output_type": "stream",
     "text": [
      "      Name  Age\n",
      "0    Alice   25\n",
      "1      Bob   30\n",
      "2  Charlie   35\n"
     ]
    }
   ],
   "source": [
    "#what are dictionaries?\n",
    "data = {'Name': ['Alice', 'Bob', 'Charlie'], 'Age': [25, 30, 35]}\n",
    "df = pd.DataFrame(data)\n",
    "print(df)\n"
   ]
  },
  {
   "cell_type": "code",
   "execution_count": 2,
   "id": "01ab3607-e4bd-492f-900a-dc465a797943",
   "metadata": {},
   "outputs": [
    {
     "name": "stdout",
     "output_type": "stream",
     "text": [
      "9\n",
      "10\n",
      "11\n",
      "11\n"
     ]
    }
   ],
   "source": [
    "temp=[7,8,9,9]\n",
    "for i in temp:\n",
    "    print(i)"
   ]
  },
  {
   "cell_type": "code",
   "execution_count": 3,
   "id": "2b023640-2022-4ed4-af13-9d251163dce5",
   "metadata": {},
   "outputs": [
    {
     "data": {
      "text/plain": [
       "4"
      ]
     },
     "execution_count": 3,
     "metadata": {},
     "output_type": "execute_result"
    }
   ],
   "source": [
    "len(temp)"
   ]
  },
  {
   "cell_type": "code",
   "execution_count": 4,
   "id": "ee7df216-aee3-4d74-a172-ab58e2b23d7b",
   "metadata": {},
   "outputs": [
    {
     "data": {
      "text/plain": [
       "33"
      ]
     },
     "execution_count": 4,
     "metadata": {},
     "output_type": "execute_result"
    }
   ],
   "source": [
    "sum(temp)"
   ]
  },
  {
   "cell_type": "code",
   "execution_count": 5,
   "id": "4f6c6450-e286-4b7a-9570-46869810cb8e",
   "metadata": {},
   "outputs": [
    {
     "data": {
      "text/plain": [
       "7"
      ]
     },
     "execution_count": 5,
     "metadata": {},
     "output_type": "execute_result"
    }
   ],
   "source": [
    "min(temp)"
   ]
  },
  {
   "cell_type": "code",
   "execution_count": 6,
   "id": "d8801f27-ecce-4429-b163-ac784ba4c0f5",
   "metadata": {},
   "outputs": [
    {
     "data": {
      "text/plain": [
       "9"
      ]
     },
     "execution_count": 6,
     "metadata": {},
     "output_type": "execute_result"
    }
   ],
   "source": [
    "max(temp)"
   ]
  },
  {
   "cell_type": "code",
   "execution_count": 8,
   "id": "f6794fa4-028f-41e3-96b2-f2245afcbeac",
   "metadata": {},
   "outputs": [
    {
     "ename": "IndexError",
     "evalue": "list index out of range",
     "output_type": "error",
     "traceback": [
      "\u001b[1;31m---------------------------------------------------------------------------\u001b[0m",
      "\u001b[1;31mIndexError\u001b[0m                                Traceback (most recent call last)",
      "Cell \u001b[1;32mIn[8], line 1\u001b[0m\n\u001b[1;32m----> 1\u001b[0m temp[\u001b[38;5;241m4\u001b[39m]\n",
      "\u001b[1;31mIndexError\u001b[0m: list index out of range"
     ]
    }
   ],
   "source": [
    "temp[4]"
   ]
  },
  {
   "cell_type": "code",
   "execution_count": 9,
   "id": "c46737a5-b865-4d70-bce6-f1605d859a78",
   "metadata": {},
   "outputs": [
    {
     "data": {
      "text/plain": [
       "7"
      ]
     },
     "execution_count": 9,
     "metadata": {},
     "output_type": "execute_result"
    }
   ],
   "source": [
    "temp[0]"
   ]
  },
  {
   "cell_type": "code",
   "execution_count": 10,
   "id": "ae501ea1-ffa3-4730-acfd-e7e47a59c156",
   "metadata": {},
   "outputs": [
    {
     "data": {
      "text/plain": [
       "0"
      ]
     },
     "execution_count": 10,
     "metadata": {},
     "output_type": "execute_result"
    }
   ],
   "source": [
    "temp.index(7)"
   ]
  },
  {
   "cell_type": "code",
   "execution_count": 11,
   "id": "811295c2-49d3-466f-a165-dc812ad0d9a4",
   "metadata": {},
   "outputs": [
    {
     "data": {
      "text/plain": [
       "[7, 8, 9, 9]"
      ]
     },
     "execution_count": 11,
     "metadata": {},
     "output_type": "execute_result"
    }
   ],
   "source": [
    "temp"
   ]
  },
  {
   "cell_type": "code",
   "execution_count": 12,
   "id": "63460c70-ef0e-4a4e-b14b-99d58bf6b586",
   "metadata": {},
   "outputs": [],
   "source": [
    "temp.append(98) #for adding 1 element"
   ]
  },
  {
   "cell_type": "code",
   "execution_count": 13,
   "id": "20342f77-2b81-4361-b3c0-b67d45044ddd",
   "metadata": {},
   "outputs": [
    {
     "data": {
      "text/plain": [
       "[7, 8, 9, 9, 98]"
      ]
     },
     "execution_count": 13,
     "metadata": {},
     "output_type": "execute_result"
    }
   ],
   "source": [
    "temp"
   ]
  },
  {
   "cell_type": "code",
   "execution_count": 14,
   "id": "d2ed8eda-0a26-4d7d-bff6-4981be7107a2",
   "metadata": {},
   "outputs": [],
   "source": [
    "temp.extend([55,6,6])"
   ]
  },
  {
   "cell_type": "code",
   "execution_count": 16,
   "id": "a532c2e0-69d6-4740-a084-d122a2bc579d",
   "metadata": {},
   "outputs": [
    {
     "data": {
      "text/plain": [
       "[7, 8, 9, 9, 98, 55, 6, 6]"
      ]
     },
     "execution_count": 16,
     "metadata": {},
     "output_type": "execute_result"
    }
   ],
   "source": [
    "temp"
   ]
  },
  {
   "cell_type": "code",
   "execution_count": 17,
   "id": "5e0bec0c-05a2-41a8-89e6-a5ffd846ce40",
   "metadata": {},
   "outputs": [],
   "source": [
    "temp.sort()"
   ]
  },
  {
   "cell_type": "code",
   "execution_count": 18,
   "id": "7c3fde24-e628-4975-a91b-9e2a746e7e9f",
   "metadata": {},
   "outputs": [
    {
     "data": {
      "text/plain": [
       "[6, 6, 7, 8, 9, 9, 55, 98]"
      ]
     },
     "execution_count": 18,
     "metadata": {},
     "output_type": "execute_result"
    }
   ],
   "source": [
    "temp"
   ]
  },
  {
   "cell_type": "code",
   "execution_count": 19,
   "id": "1acda62a-043b-499b-baee-989a17914574",
   "metadata": {},
   "outputs": [],
   "source": [
    "temp.sort(reverse=True)"
   ]
  },
  {
   "cell_type": "code",
   "execution_count": 20,
   "id": "40f13fa2-690a-4dd3-87ab-73d0e58401a5",
   "metadata": {},
   "outputs": [
    {
     "data": {
      "text/plain": [
       "[98, 55, 9, 9, 8, 7, 6, 6]"
      ]
     },
     "execution_count": 20,
     "metadata": {},
     "output_type": "execute_result"
    }
   ],
   "source": [
    "temp"
   ]
  },
  {
   "cell_type": "code",
   "execution_count": 22,
   "id": "e4af60fa-865a-4401-942c-5a5f4848756d",
   "metadata": {},
   "outputs": [
    {
     "data": {
      "text/plain": [
       "8"
      ]
     },
     "execution_count": 22,
     "metadata": {},
     "output_type": "execute_result"
    }
   ],
   "source": [
    "len(temp)"
   ]
  },
  {
   "cell_type": "code",
   "execution_count": 24,
   "id": "585fdd74-f40d-45cb-9c8b-b92b7cf1041c",
   "metadata": {},
   "outputs": [
    {
     "data": {
      "text/plain": [
       "[98, 55, 9, 9, 8, 7, 6, 6]"
      ]
     },
     "execution_count": 24,
     "metadata": {},
     "output_type": "execute_result"
    }
   ],
   "source": [
    "temp[:]"
   ]
  },
  {
   "cell_type": "code",
   "execution_count": 26,
   "id": "593ed89f-f460-4c3e-8625-69960b0a0f00",
   "metadata": {},
   "outputs": [
    {
     "data": {
      "text/plain": [
       "[98, 55, 9]"
      ]
     },
     "execution_count": 26,
     "metadata": {},
     "output_type": "execute_result"
    }
   ],
   "source": [
    "temp[0:3]\n",
    "#1st value inclusive\n",
    "#2nd value exclusive"
   ]
  },
  {
   "cell_type": "code",
   "execution_count": 30,
   "id": "3c8962a7-1ba3-4f12-8f0e-efa637c2d836",
   "metadata": {},
   "outputs": [
    {
     "name": "stdin",
     "output_type": "stream",
     "text": [
      "Enter your marks:  78\n",
      "Enter your marks:  4\n",
      "Enter your marks:  4\n",
      "Enter your marks:  56\n",
      "Enter your marks:  4\n",
      "Enter your marks:  5\n"
     ]
    }
   ],
   "source": [
    "list1=[]\n",
    "for i in range(6):\n",
    "    num=int(input(\"Enter your marks: \"))\n",
    "    list1.append(num)\n",
    "    "
   ]
  },
  {
   "cell_type": "code",
   "execution_count": 31,
   "id": "4988b94e-3000-49bf-89fd-56080c20cc31",
   "metadata": {},
   "outputs": [
    {
     "data": {
      "text/plain": [
       "[78, 4, 4, 56, 4, 5]"
      ]
     },
     "execution_count": 31,
     "metadata": {},
     "output_type": "execute_result"
    }
   ],
   "source": [
    "list1"
   ]
  },
  {
   "cell_type": "code",
   "execution_count": 34,
   "id": "276793fa-f1d9-4efb-b595-628c99345bfc",
   "metadata": {},
   "outputs": [],
   "source": [
    "average=sum(list1)/len(list1)"
   ]
  },
  {
   "cell_type": "code",
   "execution_count": 35,
   "id": "a564281d-9693-4762-be15-938a0f10560a",
   "metadata": {},
   "outputs": [
    {
     "data": {
      "text/plain": [
       "25.166666666666668"
      ]
     },
     "execution_count": 35,
     "metadata": {},
     "output_type": "execute_result"
    }
   ],
   "source": [
    "average"
   ]
  },
  {
   "cell_type": "code",
   "execution_count": 36,
   "id": "0249a3b6-3052-46a3-85ab-37657e935fcf",
   "metadata": {},
   "outputs": [
    {
     "name": "stdout",
     "output_type": "stream",
     "text": [
      "[3, 5, 6, 7, 8, 9]\n"
     ]
    }
   ],
   "source": [
    "list1=[3,5,6]\n",
    "list2=[7,8,9]\n",
    "print(list1+list2)"
   ]
  },
  {
   "cell_type": "code",
   "execution_count": 38,
   "id": "9a3ea190-4084-4b8d-a109-a8e5b56b2af2",
   "metadata": {},
   "outputs": [
    {
     "data": {
      "text/plain": [
       "[3, 5, 6, 3, 5, 6]"
      ]
     },
     "execution_count": 38,
     "metadata": {},
     "output_type": "execute_result"
    }
   ],
   "source": [
    "list1*2\n",
    "#tentative addition/multiplivcation is not supported by lists"
   ]
  },
  {
   "cell_type": "code",
   "execution_count": 39,
   "id": "25f19291-5364-4adc-9010-3431c004a015",
   "metadata": {},
   "outputs": [],
   "source": [
    "#!pip install numpy"
   ]
  },
  {
   "cell_type": "code",
   "execution_count": 40,
   "id": "099708fc-28b7-4394-b96b-4098516fcfd6",
   "metadata": {},
   "outputs": [],
   "source": [
    "import numpy as np"
   ]
  },
  {
   "cell_type": "code",
   "execution_count": 41,
   "id": "069b7ba5-fa9d-4074-b777-c8cfd8a9df21",
   "metadata": {},
   "outputs": [],
   "source": [
    "arr=np.array([3,4,5])"
   ]
  },
  {
   "cell_type": "code",
   "execution_count": 43,
   "id": "6715538e-bf1d-4429-b8f2-3c17e915af88",
   "metadata": {},
   "outputs": [
    {
     "name": "stdout",
     "output_type": "stream",
     "text": [
      "[10 13 15]\n"
     ]
    }
   ],
   "source": [
    "arr1=np.array(list1)\n",
    "arr2=np.array(list2)\n",
    "print(arr1+arr2)"
   ]
  },
  {
   "cell_type": "code",
   "execution_count": 44,
   "id": "5bddea72-fdae-482d-a775-7c75364c3576",
   "metadata": {},
   "outputs": [
    {
     "data": {
      "text/plain": [
       "array([ 6, 10, 12])"
      ]
     },
     "execution_count": 44,
     "metadata": {},
     "output_type": "execute_result"
    }
   ],
   "source": [
    "arr1*2"
   ]
  },
  {
   "cell_type": "code",
   "execution_count": 45,
   "id": "d3bf1bc2-a601-4965-aa03-417a964b7fed",
   "metadata": {},
   "outputs": [
    {
     "data": {
      "text/plain": [
       "14"
      ]
     },
     "execution_count": 45,
     "metadata": {},
     "output_type": "execute_result"
    }
   ],
   "source": [
    "np.sum(arr1)"
   ]
  },
  {
   "cell_type": "code",
   "execution_count": 46,
   "id": "50c7ea76-80be-4a26-bced-23e5625256ea",
   "metadata": {},
   "outputs": [
    {
     "data": {
      "text/plain": [
       "4.666666666666667"
      ]
     },
     "execution_count": 46,
     "metadata": {},
     "output_type": "execute_result"
    }
   ],
   "source": [
    "np.mean(arr1)"
   ]
  },
  {
   "cell_type": "code",
   "execution_count": 48,
   "id": "fc22039a-2c47-46c9-8164-60149561715f",
   "metadata": {},
   "outputs": [
    {
     "data": {
      "text/plain": [
       "5"
      ]
     },
     "execution_count": 48,
     "metadata": {},
     "output_type": "execute_result"
    }
   ],
   "source": [
    "int(np.median(arr1))"
   ]
  },
  {
   "cell_type": "code",
   "execution_count": 49,
   "id": "a71acb0e-f740-45d8-9a08-ed5c58680866",
   "metadata": {},
   "outputs": [
    {
     "data": {
      "text/plain": [
       "1"
      ]
     },
     "execution_count": 49,
     "metadata": {},
     "output_type": "execute_result"
    }
   ],
   "source": [
    "arr1.ndim"
   ]
  },
  {
   "cell_type": "code",
   "execution_count": 55,
   "id": "2dde5f9e-98b8-4a50-a5ed-29c0574ca53e",
   "metadata": {},
   "outputs": [],
   "source": [
    "arr2d=np.array([[2,3,4],\n",
    "      [7,8,9]])"
   ]
  },
  {
   "cell_type": "code",
   "execution_count": 53,
   "id": "b6b79e17-46bf-4c82-be7b-84d80683865e",
   "metadata": {},
   "outputs": [
    {
     "data": {
      "text/plain": [
       "2"
      ]
     },
     "execution_count": 53,
     "metadata": {},
     "output_type": "execute_result"
    }
   ],
   "source": [
    "arr2d.ndim"
   ]
  },
  {
   "cell_type": "code",
   "execution_count": 54,
   "id": "9e3e0424-aa56-4fee-a144-23b238f2548b",
   "metadata": {},
   "outputs": [
    {
     "data": {
      "text/plain": [
       "array([2, 3, 4])"
      ]
     },
     "execution_count": 54,
     "metadata": {},
     "output_type": "execute_result"
    }
   ],
   "source": [
    "arr2d[0]"
   ]
  },
  {
   "cell_type": "code",
   "execution_count": 56,
   "id": "2567f9fb-6fae-4cdb-b4e7-f01d5ad70793",
   "metadata": {},
   "outputs": [
    {
     "data": {
      "text/plain": [
       "array([3, 5, 6])"
      ]
     },
     "execution_count": 56,
     "metadata": {},
     "output_type": "execute_result"
    }
   ],
   "source": [
    "arr1"
   ]
  },
  {
   "cell_type": "code",
   "execution_count": 58,
   "id": "69f8bc18-a8bf-4d52-aa7b-de6b18eaeede",
   "metadata": {},
   "outputs": [
    {
     "data": {
      "text/plain": [
       "(3,)"
      ]
     },
     "execution_count": 58,
     "metadata": {},
     "output_type": "execute_result"
    }
   ],
   "source": [
    "arr1.shape"
   ]
  },
  {
   "cell_type": "code",
   "execution_count": 59,
   "id": "1e835a54-9adb-48fd-8a35-5b31987f4027",
   "metadata": {},
   "outputs": [
    {
     "data": {
      "text/plain": [
       "(2, 3)"
      ]
     },
     "execution_count": 59,
     "metadata": {},
     "output_type": "execute_result"
    }
   ],
   "source": [
    "arr2d.shape"
   ]
  },
  {
   "cell_type": "code",
   "execution_count": 60,
   "id": "55511c60-8b78-422f-83a4-15aec2530507",
   "metadata": {},
   "outputs": [],
   "source": [
    "import pandas as pd"
   ]
  },
  {
   "cell_type": "code",
   "execution_count": 62,
   "id": "b90a92a1-f201-4602-baa5-41f31e0c26f9",
   "metadata": {},
   "outputs": [],
   "source": [
    "data=pd.read_csv(\"E:/student_dataset.csv\")"
   ]
  },
  {
   "cell_type": "code",
   "execution_count": 63,
   "id": "767dd238-706b-4df8-a33b-41bbd90a47a1",
   "metadata": {},
   "outputs": [
    {
     "data": {
      "text/html": [
       "<div>\n",
       "<style scoped>\n",
       "    .dataframe tbody tr th:only-of-type {\n",
       "        vertical-align: middle;\n",
       "    }\n",
       "\n",
       "    .dataframe tbody tr th {\n",
       "        vertical-align: top;\n",
       "    }\n",
       "\n",
       "    .dataframe thead th {\n",
       "        text-align: right;\n",
       "    }\n",
       "</style>\n",
       "<table border=\"1\" class=\"dataframe\">\n",
       "  <thead>\n",
       "    <tr style=\"text-align: right;\">\n",
       "      <th></th>\n",
       "      <th>StudentID</th>\n",
       "      <th>Name</th>\n",
       "      <th>Age</th>\n",
       "      <th>Gender</th>\n",
       "      <th>Grade</th>\n",
       "      <th>Attendance</th>\n",
       "      <th>FinalExamScore</th>\n",
       "    </tr>\n",
       "  </thead>\n",
       "  <tbody>\n",
       "    <tr>\n",
       "      <th>0</th>\n",
       "      <td>S0001</td>\n",
       "      <td>Student1</td>\n",
       "      <td>25</td>\n",
       "      <td>Male</td>\n",
       "      <td>60.212228</td>\n",
       "      <td>85</td>\n",
       "      <td>78.652064</td>\n",
       "    </tr>\n",
       "    <tr>\n",
       "      <th>1</th>\n",
       "      <td>S0002</td>\n",
       "      <td>Student2</td>\n",
       "      <td>20</td>\n",
       "      <td>Male</td>\n",
       "      <td>96.532454</td>\n",
       "      <td>100</td>\n",
       "      <td>72.347071</td>\n",
       "    </tr>\n",
       "    <tr>\n",
       "      <th>2</th>\n",
       "      <td>S0003</td>\n",
       "      <td>Student3</td>\n",
       "      <td>24</td>\n",
       "      <td>Female</td>\n",
       "      <td>79.203509</td>\n",
       "      <td>35</td>\n",
       "      <td>88.799927</td>\n",
       "    </tr>\n",
       "    <tr>\n",
       "      <th>3</th>\n",
       "      <td>S0004</td>\n",
       "      <td>Student4</td>\n",
       "      <td>24</td>\n",
       "      <td>Male</td>\n",
       "      <td>65.519182</td>\n",
       "      <td>54</td>\n",
       "      <td>66.332211</td>\n",
       "    </tr>\n",
       "    <tr>\n",
       "      <th>4</th>\n",
       "      <td>S0005</td>\n",
       "      <td>Student5</td>\n",
       "      <td>17</td>\n",
       "      <td>Male</td>\n",
       "      <td>62.680631</td>\n",
       "      <td>53</td>\n",
       "      <td>43.787086</td>\n",
       "    </tr>\n",
       "    <tr>\n",
       "      <th>...</th>\n",
       "      <td>...</td>\n",
       "      <td>...</td>\n",
       "      <td>...</td>\n",
       "      <td>...</td>\n",
       "      <td>...</td>\n",
       "      <td>...</td>\n",
       "      <td>...</td>\n",
       "    </tr>\n",
       "    <tr>\n",
       "      <th>495</th>\n",
       "      <td>S0496</td>\n",
       "      <td>Student496</td>\n",
       "      <td>16</td>\n",
       "      <td>Female</td>\n",
       "      <td>73.928348</td>\n",
       "      <td>10</td>\n",
       "      <td>63.297157</td>\n",
       "    </tr>\n",
       "    <tr>\n",
       "      <th>496</th>\n",
       "      <td>S0497</td>\n",
       "      <td>Student497</td>\n",
       "      <td>23</td>\n",
       "      <td>Male</td>\n",
       "      <td>63.353273</td>\n",
       "      <td>36</td>\n",
       "      <td>66.540411</td>\n",
       "    </tr>\n",
       "    <tr>\n",
       "      <th>497</th>\n",
       "      <td>S0498</td>\n",
       "      <td>Student498</td>\n",
       "      <td>17</td>\n",
       "      <td>Female</td>\n",
       "      <td>78.387603</td>\n",
       "      <td>11</td>\n",
       "      <td>83.505418</td>\n",
       "    </tr>\n",
       "    <tr>\n",
       "      <th>498</th>\n",
       "      <td>S0499</td>\n",
       "      <td>Student499</td>\n",
       "      <td>23</td>\n",
       "      <td>Male</td>\n",
       "      <td>95.011317</td>\n",
       "      <td>85</td>\n",
       "      <td>54.545547</td>\n",
       "    </tr>\n",
       "    <tr>\n",
       "      <th>499</th>\n",
       "      <td>S0500</td>\n",
       "      <td>Student500</td>\n",
       "      <td>19</td>\n",
       "      <td>Male</td>\n",
       "      <td>90.531636</td>\n",
       "      <td>56</td>\n",
       "      <td>60.780361</td>\n",
       "    </tr>\n",
       "  </tbody>\n",
       "</table>\n",
       "<p>500 rows × 7 columns</p>\n",
       "</div>"
      ],
      "text/plain": [
       "    StudentID        Name  Age  Gender      Grade  Attendance  FinalExamScore\n",
       "0       S0001    Student1   25    Male  60.212228          85       78.652064\n",
       "1       S0002    Student2   20    Male  96.532454         100       72.347071\n",
       "2       S0003    Student3   24  Female  79.203509          35       88.799927\n",
       "3       S0004    Student4   24    Male  65.519182          54       66.332211\n",
       "4       S0005    Student5   17    Male  62.680631          53       43.787086\n",
       "..        ...         ...  ...     ...        ...         ...             ...\n",
       "495     S0496  Student496   16  Female  73.928348          10       63.297157\n",
       "496     S0497  Student497   23    Male  63.353273          36       66.540411\n",
       "497     S0498  Student498   17  Female  78.387603          11       83.505418\n",
       "498     S0499  Student499   23    Male  95.011317          85       54.545547\n",
       "499     S0500  Student500   19    Male  90.531636          56       60.780361\n",
       "\n",
       "[500 rows x 7 columns]"
      ]
     },
     "execution_count": 63,
     "metadata": {},
     "output_type": "execute_result"
    }
   ],
   "source": [
    "data"
   ]
  },
  {
   "cell_type": "code",
   "execution_count": 65,
   "id": "8fe5af17-4043-4da3-8c5a-c97c1a325b80",
   "metadata": {},
   "outputs": [
    {
     "data": {
      "text/html": [
       "<div>\n",
       "<style scoped>\n",
       "    .dataframe tbody tr th:only-of-type {\n",
       "        vertical-align: middle;\n",
       "    }\n",
       "\n",
       "    .dataframe tbody tr th {\n",
       "        vertical-align: top;\n",
       "    }\n",
       "\n",
       "    .dataframe thead th {\n",
       "        text-align: right;\n",
       "    }\n",
       "</style>\n",
       "<table border=\"1\" class=\"dataframe\">\n",
       "  <thead>\n",
       "    <tr style=\"text-align: right;\">\n",
       "      <th></th>\n",
       "      <th>StudentID</th>\n",
       "      <th>Name</th>\n",
       "      <th>Age</th>\n",
       "      <th>Gender</th>\n",
       "      <th>Grade</th>\n",
       "      <th>Attendance</th>\n",
       "      <th>FinalExamScore</th>\n",
       "    </tr>\n",
       "  </thead>\n",
       "  <tbody>\n",
       "    <tr>\n",
       "      <th>0</th>\n",
       "      <td>S0001</td>\n",
       "      <td>Student1</td>\n",
       "      <td>25</td>\n",
       "      <td>Male</td>\n",
       "      <td>60.212228</td>\n",
       "      <td>85</td>\n",
       "      <td>78.652064</td>\n",
       "    </tr>\n",
       "    <tr>\n",
       "      <th>1</th>\n",
       "      <td>S0002</td>\n",
       "      <td>Student2</td>\n",
       "      <td>20</td>\n",
       "      <td>Male</td>\n",
       "      <td>96.532454</td>\n",
       "      <td>100</td>\n",
       "      <td>72.347071</td>\n",
       "    </tr>\n",
       "  </tbody>\n",
       "</table>\n",
       "</div>"
      ],
      "text/plain": [
       "  StudentID      Name  Age Gender      Grade  Attendance  FinalExamScore\n",
       "0     S0001  Student1   25   Male  60.212228          85       78.652064\n",
       "1     S0002  Student2   20   Male  96.532454         100       72.347071"
      ]
     },
     "execution_count": 65,
     "metadata": {},
     "output_type": "execute_result"
    }
   ],
   "source": [
    "data.head(2)"
   ]
  },
  {
   "cell_type": "code",
   "execution_count": 66,
   "id": "00665a10-cd49-45d4-b6cc-4f66d7e560f4",
   "metadata": {},
   "outputs": [
    {
     "data": {
      "text/html": [
       "<div>\n",
       "<style scoped>\n",
       "    .dataframe tbody tr th:only-of-type {\n",
       "        vertical-align: middle;\n",
       "    }\n",
       "\n",
       "    .dataframe tbody tr th {\n",
       "        vertical-align: top;\n",
       "    }\n",
       "\n",
       "    .dataframe thead th {\n",
       "        text-align: right;\n",
       "    }\n",
       "</style>\n",
       "<table border=\"1\" class=\"dataframe\">\n",
       "  <thead>\n",
       "    <tr style=\"text-align: right;\">\n",
       "      <th></th>\n",
       "      <th>StudentID</th>\n",
       "      <th>Name</th>\n",
       "      <th>Age</th>\n",
       "      <th>Gender</th>\n",
       "      <th>Grade</th>\n",
       "      <th>Attendance</th>\n",
       "      <th>FinalExamScore</th>\n",
       "    </tr>\n",
       "  </thead>\n",
       "  <tbody>\n",
       "    <tr>\n",
       "      <th>495</th>\n",
       "      <td>S0496</td>\n",
       "      <td>Student496</td>\n",
       "      <td>16</td>\n",
       "      <td>Female</td>\n",
       "      <td>73.928348</td>\n",
       "      <td>10</td>\n",
       "      <td>63.297157</td>\n",
       "    </tr>\n",
       "    <tr>\n",
       "      <th>496</th>\n",
       "      <td>S0497</td>\n",
       "      <td>Student497</td>\n",
       "      <td>23</td>\n",
       "      <td>Male</td>\n",
       "      <td>63.353273</td>\n",
       "      <td>36</td>\n",
       "      <td>66.540411</td>\n",
       "    </tr>\n",
       "    <tr>\n",
       "      <th>497</th>\n",
       "      <td>S0498</td>\n",
       "      <td>Student498</td>\n",
       "      <td>17</td>\n",
       "      <td>Female</td>\n",
       "      <td>78.387603</td>\n",
       "      <td>11</td>\n",
       "      <td>83.505418</td>\n",
       "    </tr>\n",
       "    <tr>\n",
       "      <th>498</th>\n",
       "      <td>S0499</td>\n",
       "      <td>Student499</td>\n",
       "      <td>23</td>\n",
       "      <td>Male</td>\n",
       "      <td>95.011317</td>\n",
       "      <td>85</td>\n",
       "      <td>54.545547</td>\n",
       "    </tr>\n",
       "    <tr>\n",
       "      <th>499</th>\n",
       "      <td>S0500</td>\n",
       "      <td>Student500</td>\n",
       "      <td>19</td>\n",
       "      <td>Male</td>\n",
       "      <td>90.531636</td>\n",
       "      <td>56</td>\n",
       "      <td>60.780361</td>\n",
       "    </tr>\n",
       "  </tbody>\n",
       "</table>\n",
       "</div>"
      ],
      "text/plain": [
       "    StudentID        Name  Age  Gender      Grade  Attendance  FinalExamScore\n",
       "495     S0496  Student496   16  Female  73.928348          10       63.297157\n",
       "496     S0497  Student497   23    Male  63.353273          36       66.540411\n",
       "497     S0498  Student498   17  Female  78.387603          11       83.505418\n",
       "498     S0499  Student499   23    Male  95.011317          85       54.545547\n",
       "499     S0500  Student500   19    Male  90.531636          56       60.780361"
      ]
     },
     "execution_count": 66,
     "metadata": {},
     "output_type": "execute_result"
    }
   ],
   "source": [
    "data.tail()"
   ]
  },
  {
   "cell_type": "code",
   "execution_count": 67,
   "id": "92eb909b-a722-416d-9dc9-ec987dfabe96",
   "metadata": {},
   "outputs": [
    {
     "name": "stdout",
     "output_type": "stream",
     "text": [
      "<class 'pandas.core.frame.DataFrame'>\n",
      "RangeIndex: 500 entries, 0 to 499\n",
      "Data columns (total 7 columns):\n",
      " #   Column          Non-Null Count  Dtype  \n",
      "---  ------          --------------  -----  \n",
      " 0   StudentID       500 non-null    object \n",
      " 1   Name            500 non-null    object \n",
      " 2   Age             500 non-null    int64  \n",
      " 3   Gender          500 non-null    object \n",
      " 4   Grade           500 non-null    float64\n",
      " 5   Attendance      500 non-null    int64  \n",
      " 6   FinalExamScore  500 non-null    float64\n",
      "dtypes: float64(2), int64(2), object(3)\n",
      "memory usage: 27.5+ KB\n"
     ]
    }
   ],
   "source": [
    "data.info()"
   ]
  },
  {
   "cell_type": "code",
   "execution_count": 69,
   "id": "873e18a3-89e1-452b-8ca8-f2403850f0cb",
   "metadata": {},
   "outputs": [
    {
     "data": {
      "text/html": [
       "<div>\n",
       "<style scoped>\n",
       "    .dataframe tbody tr th:only-of-type {\n",
       "        vertical-align: middle;\n",
       "    }\n",
       "\n",
       "    .dataframe tbody tr th {\n",
       "        vertical-align: top;\n",
       "    }\n",
       "\n",
       "    .dataframe thead th {\n",
       "        text-align: right;\n",
       "    }\n",
       "</style>\n",
       "<table border=\"1\" class=\"dataframe\">\n",
       "  <thead>\n",
       "    <tr style=\"text-align: right;\">\n",
       "      <th></th>\n",
       "      <th>Age</th>\n",
       "      <th>Grade</th>\n",
       "      <th>Attendance</th>\n",
       "      <th>FinalExamScore</th>\n",
       "    </tr>\n",
       "  </thead>\n",
       "  <tbody>\n",
       "    <tr>\n",
       "      <th>count</th>\n",
       "      <td>500.00000</td>\n",
       "      <td>500.000000</td>\n",
       "      <td>500.00000</td>\n",
       "      <td>500.000000</td>\n",
       "    </tr>\n",
       "    <tr>\n",
       "      <th>mean</th>\n",
       "      <td>20.51400</td>\n",
       "      <td>79.916892</td>\n",
       "      <td>50.64400</td>\n",
       "      <td>69.643785</td>\n",
       "    </tr>\n",
       "    <tr>\n",
       "      <th>std</th>\n",
       "      <td>2.91527</td>\n",
       "      <td>11.226716</td>\n",
       "      <td>29.81441</td>\n",
       "      <td>17.716107</td>\n",
       "    </tr>\n",
       "    <tr>\n",
       "      <th>min</th>\n",
       "      <td>16.00000</td>\n",
       "      <td>60.109527</td>\n",
       "      <td>0.00000</td>\n",
       "      <td>40.035899</td>\n",
       "    </tr>\n",
       "    <tr>\n",
       "      <th>25%</th>\n",
       "      <td>18.00000</td>\n",
       "      <td>70.317206</td>\n",
       "      <td>24.00000</td>\n",
       "      <td>53.337397</td>\n",
       "    </tr>\n",
       "    <tr>\n",
       "      <th>50%</th>\n",
       "      <td>21.00000</td>\n",
       "      <td>80.378709</td>\n",
       "      <td>52.00000</td>\n",
       "      <td>70.101841</td>\n",
       "    </tr>\n",
       "    <tr>\n",
       "      <th>75%</th>\n",
       "      <td>23.00000</td>\n",
       "      <td>89.286620</td>\n",
       "      <td>77.00000</td>\n",
       "      <td>84.955109</td>\n",
       "    </tr>\n",
       "    <tr>\n",
       "      <th>max</th>\n",
       "      <td>25.00000</td>\n",
       "      <td>99.955384</td>\n",
       "      <td>100.00000</td>\n",
       "      <td>99.995500</td>\n",
       "    </tr>\n",
       "  </tbody>\n",
       "</table>\n",
       "</div>"
      ],
      "text/plain": [
       "             Age       Grade  Attendance  FinalExamScore\n",
       "count  500.00000  500.000000   500.00000      500.000000\n",
       "mean    20.51400   79.916892    50.64400       69.643785\n",
       "std      2.91527   11.226716    29.81441       17.716107\n",
       "min     16.00000   60.109527     0.00000       40.035899\n",
       "25%     18.00000   70.317206    24.00000       53.337397\n",
       "50%     21.00000   80.378709    52.00000       70.101841\n",
       "75%     23.00000   89.286620    77.00000       84.955109\n",
       "max     25.00000   99.955384   100.00000       99.995500"
      ]
     },
     "execution_count": 69,
     "metadata": {},
     "output_type": "execute_result"
    }
   ],
   "source": [
    "data.describe()"
   ]
  },
  {
   "cell_type": "code",
   "execution_count": 70,
   "id": "e1dea675-e6b0-499a-831a-842ebeb66eab",
   "metadata": {},
   "outputs": [
    {
     "data": {
      "text/html": [
       "<div>\n",
       "<style scoped>\n",
       "    .dataframe tbody tr th:only-of-type {\n",
       "        vertical-align: middle;\n",
       "    }\n",
       "\n",
       "    .dataframe tbody tr th {\n",
       "        vertical-align: top;\n",
       "    }\n",
       "\n",
       "    .dataframe thead th {\n",
       "        text-align: right;\n",
       "    }\n",
       "</style>\n",
       "<table border=\"1\" class=\"dataframe\">\n",
       "  <thead>\n",
       "    <tr style=\"text-align: right;\">\n",
       "      <th></th>\n",
       "      <th>StudentID</th>\n",
       "      <th>Name</th>\n",
       "      <th>Age</th>\n",
       "      <th>Gender</th>\n",
       "      <th>Grade</th>\n",
       "      <th>Attendance</th>\n",
       "      <th>FinalExamScore</th>\n",
       "    </tr>\n",
       "  </thead>\n",
       "  <tbody>\n",
       "    <tr>\n",
       "      <th>0</th>\n",
       "      <td>False</td>\n",
       "      <td>False</td>\n",
       "      <td>False</td>\n",
       "      <td>False</td>\n",
       "      <td>False</td>\n",
       "      <td>False</td>\n",
       "      <td>False</td>\n",
       "    </tr>\n",
       "    <tr>\n",
       "      <th>1</th>\n",
       "      <td>False</td>\n",
       "      <td>False</td>\n",
       "      <td>False</td>\n",
       "      <td>False</td>\n",
       "      <td>False</td>\n",
       "      <td>False</td>\n",
       "      <td>False</td>\n",
       "    </tr>\n",
       "    <tr>\n",
       "      <th>2</th>\n",
       "      <td>False</td>\n",
       "      <td>False</td>\n",
       "      <td>False</td>\n",
       "      <td>False</td>\n",
       "      <td>False</td>\n",
       "      <td>False</td>\n",
       "      <td>False</td>\n",
       "    </tr>\n",
       "    <tr>\n",
       "      <th>3</th>\n",
       "      <td>False</td>\n",
       "      <td>False</td>\n",
       "      <td>False</td>\n",
       "      <td>False</td>\n",
       "      <td>False</td>\n",
       "      <td>False</td>\n",
       "      <td>False</td>\n",
       "    </tr>\n",
       "    <tr>\n",
       "      <th>4</th>\n",
       "      <td>False</td>\n",
       "      <td>False</td>\n",
       "      <td>False</td>\n",
       "      <td>False</td>\n",
       "      <td>False</td>\n",
       "      <td>False</td>\n",
       "      <td>False</td>\n",
       "    </tr>\n",
       "    <tr>\n",
       "      <th>...</th>\n",
       "      <td>...</td>\n",
       "      <td>...</td>\n",
       "      <td>...</td>\n",
       "      <td>...</td>\n",
       "      <td>...</td>\n",
       "      <td>...</td>\n",
       "      <td>...</td>\n",
       "    </tr>\n",
       "    <tr>\n",
       "      <th>495</th>\n",
       "      <td>False</td>\n",
       "      <td>False</td>\n",
       "      <td>False</td>\n",
       "      <td>False</td>\n",
       "      <td>False</td>\n",
       "      <td>False</td>\n",
       "      <td>False</td>\n",
       "    </tr>\n",
       "    <tr>\n",
       "      <th>496</th>\n",
       "      <td>False</td>\n",
       "      <td>False</td>\n",
       "      <td>False</td>\n",
       "      <td>False</td>\n",
       "      <td>False</td>\n",
       "      <td>False</td>\n",
       "      <td>False</td>\n",
       "    </tr>\n",
       "    <tr>\n",
       "      <th>497</th>\n",
       "      <td>False</td>\n",
       "      <td>False</td>\n",
       "      <td>False</td>\n",
       "      <td>False</td>\n",
       "      <td>False</td>\n",
       "      <td>False</td>\n",
       "      <td>False</td>\n",
       "    </tr>\n",
       "    <tr>\n",
       "      <th>498</th>\n",
       "      <td>False</td>\n",
       "      <td>False</td>\n",
       "      <td>False</td>\n",
       "      <td>False</td>\n",
       "      <td>False</td>\n",
       "      <td>False</td>\n",
       "      <td>False</td>\n",
       "    </tr>\n",
       "    <tr>\n",
       "      <th>499</th>\n",
       "      <td>False</td>\n",
       "      <td>False</td>\n",
       "      <td>False</td>\n",
       "      <td>False</td>\n",
       "      <td>False</td>\n",
       "      <td>False</td>\n",
       "      <td>False</td>\n",
       "    </tr>\n",
       "  </tbody>\n",
       "</table>\n",
       "<p>500 rows × 7 columns</p>\n",
       "</div>"
      ],
      "text/plain": [
       "     StudentID   Name    Age  Gender  Grade  Attendance  FinalExamScore\n",
       "0        False  False  False   False  False       False           False\n",
       "1        False  False  False   False  False       False           False\n",
       "2        False  False  False   False  False       False           False\n",
       "3        False  False  False   False  False       False           False\n",
       "4        False  False  False   False  False       False           False\n",
       "..         ...    ...    ...     ...    ...         ...             ...\n",
       "495      False  False  False   False  False       False           False\n",
       "496      False  False  False   False  False       False           False\n",
       "497      False  False  False   False  False       False           False\n",
       "498      False  False  False   False  False       False           False\n",
       "499      False  False  False   False  False       False           False\n",
       "\n",
       "[500 rows x 7 columns]"
      ]
     },
     "execution_count": 70,
     "metadata": {},
     "output_type": "execute_result"
    }
   ],
   "source": [
    "data.isnull()"
   ]
  },
  {
   "cell_type": "code",
   "execution_count": 71,
   "id": "074a6d8a-92da-4753-8c31-70e5a959dd64",
   "metadata": {},
   "outputs": [
    {
     "data": {
      "text/plain": [
       "StudentID         0\n",
       "Name              0\n",
       "Age               0\n",
       "Gender            0\n",
       "Grade             0\n",
       "Attendance        0\n",
       "FinalExamScore    0\n",
       "dtype: int64"
      ]
     },
     "execution_count": 71,
     "metadata": {},
     "output_type": "execute_result"
    }
   ],
   "source": [
    "data.isnull().sum()"
   ]
  },
  {
   "cell_type": "code",
   "execution_count": 73,
   "id": "ac0d47df-e7aa-4f74-857f-87637845306d",
   "metadata": {},
   "outputs": [],
   "source": [
    "#data.fillna(0)"
   ]
  },
  {
   "cell_type": "code",
   "execution_count": 74,
   "id": "0fe15e33-980c-434a-85c4-2d9bea59f0c1",
   "metadata": {},
   "outputs": [
    {
     "data": {
      "text/html": [
       "<div>\n",
       "<style scoped>\n",
       "    .dataframe tbody tr th:only-of-type {\n",
       "        vertical-align: middle;\n",
       "    }\n",
       "\n",
       "    .dataframe tbody tr th {\n",
       "        vertical-align: top;\n",
       "    }\n",
       "\n",
       "    .dataframe thead th {\n",
       "        text-align: right;\n",
       "    }\n",
       "</style>\n",
       "<table border=\"1\" class=\"dataframe\">\n",
       "  <thead>\n",
       "    <tr style=\"text-align: right;\">\n",
       "      <th></th>\n",
       "      <th>StudentID</th>\n",
       "      <th>Name</th>\n",
       "      <th>Age</th>\n",
       "      <th>Gender</th>\n",
       "      <th>Grade</th>\n",
       "      <th>Attendance</th>\n",
       "      <th>FinalExamScore</th>\n",
       "    </tr>\n",
       "  </thead>\n",
       "  <tbody>\n",
       "    <tr>\n",
       "      <th>0</th>\n",
       "      <td>S0001</td>\n",
       "      <td>Student1</td>\n",
       "      <td>25</td>\n",
       "      <td>Male</td>\n",
       "      <td>60.212228</td>\n",
       "      <td>85</td>\n",
       "      <td>78.652064</td>\n",
       "    </tr>\n",
       "    <tr>\n",
       "      <th>1</th>\n",
       "      <td>S0002</td>\n",
       "      <td>Student2</td>\n",
       "      <td>20</td>\n",
       "      <td>Male</td>\n",
       "      <td>96.532454</td>\n",
       "      <td>100</td>\n",
       "      <td>72.347071</td>\n",
       "    </tr>\n",
       "  </tbody>\n",
       "</table>\n",
       "</div>"
      ],
      "text/plain": [
       "  StudentID      Name  Age Gender      Grade  Attendance  FinalExamScore\n",
       "0     S0001  Student1   25   Male  60.212228          85       78.652064\n",
       "1     S0002  Student2   20   Male  96.532454         100       72.347071"
      ]
     },
     "execution_count": 74,
     "metadata": {},
     "output_type": "execute_result"
    }
   ],
   "source": [
    "data.head(2)"
   ]
  },
  {
   "cell_type": "code",
   "execution_count": 75,
   "id": "9c49ae5e-c8d2-434f-924d-d4b9295c934f",
   "metadata": {},
   "outputs": [
    {
     "data": {
      "text/plain": [
       "0      25\n",
       "1      20\n",
       "2      24\n",
       "3      24\n",
       "4      17\n",
       "       ..\n",
       "495    16\n",
       "496    23\n",
       "497    17\n",
       "498    23\n",
       "499    19\n",
       "Name: Age, Length: 500, dtype: int64"
      ]
     },
     "execution_count": 75,
     "metadata": {},
     "output_type": "execute_result"
    }
   ],
   "source": [
    "data[\"Age\"]"
   ]
  },
  {
   "cell_type": "code",
   "execution_count": 77,
   "id": "27e18f9e-d3a0-4e43-a413-a0bb26d18bd8",
   "metadata": {},
   "outputs": [],
   "source": [
    "#for i in data[\"Age\"]:\n",
    "    #print(i)"
   ]
  },
  {
   "cell_type": "code",
   "execution_count": 78,
   "id": "73d02010-8ba2-4e16-80f3-31891822dea5",
   "metadata": {},
   "outputs": [
    {
     "data": {
      "text/html": [
       "<div>\n",
       "<style scoped>\n",
       "    .dataframe tbody tr th:only-of-type {\n",
       "        vertical-align: middle;\n",
       "    }\n",
       "\n",
       "    .dataframe tbody tr th {\n",
       "        vertical-align: top;\n",
       "    }\n",
       "\n",
       "    .dataframe thead th {\n",
       "        text-align: right;\n",
       "    }\n",
       "</style>\n",
       "<table border=\"1\" class=\"dataframe\">\n",
       "  <thead>\n",
       "    <tr style=\"text-align: right;\">\n",
       "      <th></th>\n",
       "      <th>Age</th>\n",
       "      <th>Gender</th>\n",
       "    </tr>\n",
       "  </thead>\n",
       "  <tbody>\n",
       "    <tr>\n",
       "      <th>0</th>\n",
       "      <td>25</td>\n",
       "      <td>Male</td>\n",
       "    </tr>\n",
       "    <tr>\n",
       "      <th>1</th>\n",
       "      <td>20</td>\n",
       "      <td>Male</td>\n",
       "    </tr>\n",
       "    <tr>\n",
       "      <th>2</th>\n",
       "      <td>24</td>\n",
       "      <td>Female</td>\n",
       "    </tr>\n",
       "    <tr>\n",
       "      <th>3</th>\n",
       "      <td>24</td>\n",
       "      <td>Male</td>\n",
       "    </tr>\n",
       "    <tr>\n",
       "      <th>4</th>\n",
       "      <td>17</td>\n",
       "      <td>Male</td>\n",
       "    </tr>\n",
       "    <tr>\n",
       "      <th>...</th>\n",
       "      <td>...</td>\n",
       "      <td>...</td>\n",
       "    </tr>\n",
       "    <tr>\n",
       "      <th>495</th>\n",
       "      <td>16</td>\n",
       "      <td>Female</td>\n",
       "    </tr>\n",
       "    <tr>\n",
       "      <th>496</th>\n",
       "      <td>23</td>\n",
       "      <td>Male</td>\n",
       "    </tr>\n",
       "    <tr>\n",
       "      <th>497</th>\n",
       "      <td>17</td>\n",
       "      <td>Female</td>\n",
       "    </tr>\n",
       "    <tr>\n",
       "      <th>498</th>\n",
       "      <td>23</td>\n",
       "      <td>Male</td>\n",
       "    </tr>\n",
       "    <tr>\n",
       "      <th>499</th>\n",
       "      <td>19</td>\n",
       "      <td>Male</td>\n",
       "    </tr>\n",
       "  </tbody>\n",
       "</table>\n",
       "<p>500 rows × 2 columns</p>\n",
       "</div>"
      ],
      "text/plain": [
       "     Age  Gender\n",
       "0     25    Male\n",
       "1     20    Male\n",
       "2     24  Female\n",
       "3     24    Male\n",
       "4     17    Male\n",
       "..   ...     ...\n",
       "495   16  Female\n",
       "496   23    Male\n",
       "497   17  Female\n",
       "498   23    Male\n",
       "499   19    Male\n",
       "\n",
       "[500 rows x 2 columns]"
      ]
     },
     "execution_count": 78,
     "metadata": {},
     "output_type": "execute_result"
    }
   ],
   "source": [
    "data[[\"Age\", \"Gender\"]]"
   ]
  },
  {
   "cell_type": "code",
   "execution_count": 81,
   "id": "25a8d2e1-0f10-4ef0-b205-d63c31776acc",
   "metadata": {},
   "outputs": [
    {
     "data": {
      "text/plain": [
       "(500,)"
      ]
     },
     "execution_count": 81,
     "metadata": {},
     "output_type": "execute_result"
    }
   ],
   "source": [
    "data[\"Age\"]"
   ]
  },
  {
   "cell_type": "code",
   "execution_count": 82,
   "id": "5a18379d-86b8-49da-8f17-9f9c1e346228",
   "metadata": {},
   "outputs": [
    {
     "data": {
      "text/plain": [
       "numpy.ndarray"
      ]
     },
     "execution_count": 82,
     "metadata": {},
     "output_type": "execute_result"
    }
   ],
   "source": [
    "type(arr1)"
   ]
  },
  {
   "cell_type": "code",
   "execution_count": 84,
   "id": "55be919b-069e-4bcd-b157-2bc20edf65a9",
   "metadata": {},
   "outputs": [],
   "source": [
    "pass_data=data[ data[\"Grade\"]>50]"
   ]
  },
  {
   "cell_type": "code",
   "execution_count": 85,
   "id": "f413d798-1117-45d8-ab43-01b00bf10a89",
   "metadata": {},
   "outputs": [
    {
     "data": {
      "text/html": [
       "<div>\n",
       "<style scoped>\n",
       "    .dataframe tbody tr th:only-of-type {\n",
       "        vertical-align: middle;\n",
       "    }\n",
       "\n",
       "    .dataframe tbody tr th {\n",
       "        vertical-align: top;\n",
       "    }\n",
       "\n",
       "    .dataframe thead th {\n",
       "        text-align: right;\n",
       "    }\n",
       "</style>\n",
       "<table border=\"1\" class=\"dataframe\">\n",
       "  <thead>\n",
       "    <tr style=\"text-align: right;\">\n",
       "      <th></th>\n",
       "      <th>StudentID</th>\n",
       "      <th>Name</th>\n",
       "      <th>Age</th>\n",
       "      <th>Gender</th>\n",
       "      <th>Grade</th>\n",
       "      <th>Attendance</th>\n",
       "      <th>FinalExamScore</th>\n",
       "    </tr>\n",
       "  </thead>\n",
       "  <tbody>\n",
       "    <tr>\n",
       "      <th>0</th>\n",
       "      <td>S0001</td>\n",
       "      <td>Student1</td>\n",
       "      <td>25</td>\n",
       "      <td>Male</td>\n",
       "      <td>60.212228</td>\n",
       "      <td>85</td>\n",
       "      <td>78.652064</td>\n",
       "    </tr>\n",
       "    <tr>\n",
       "      <th>1</th>\n",
       "      <td>S0002</td>\n",
       "      <td>Student2</td>\n",
       "      <td>20</td>\n",
       "      <td>Male</td>\n",
       "      <td>96.532454</td>\n",
       "      <td>100</td>\n",
       "      <td>72.347071</td>\n",
       "    </tr>\n",
       "    <tr>\n",
       "      <th>2</th>\n",
       "      <td>S0003</td>\n",
       "      <td>Student3</td>\n",
       "      <td>24</td>\n",
       "      <td>Female</td>\n",
       "      <td>79.203509</td>\n",
       "      <td>35</td>\n",
       "      <td>88.799927</td>\n",
       "    </tr>\n",
       "    <tr>\n",
       "      <th>3</th>\n",
       "      <td>S0004</td>\n",
       "      <td>Student4</td>\n",
       "      <td>24</td>\n",
       "      <td>Male</td>\n",
       "      <td>65.519182</td>\n",
       "      <td>54</td>\n",
       "      <td>66.332211</td>\n",
       "    </tr>\n",
       "    <tr>\n",
       "      <th>4</th>\n",
       "      <td>S0005</td>\n",
       "      <td>Student5</td>\n",
       "      <td>17</td>\n",
       "      <td>Male</td>\n",
       "      <td>62.680631</td>\n",
       "      <td>53</td>\n",
       "      <td>43.787086</td>\n",
       "    </tr>\n",
       "  </tbody>\n",
       "</table>\n",
       "</div>"
      ],
      "text/plain": [
       "  StudentID      Name  Age  Gender      Grade  Attendance  FinalExamScore\n",
       "0     S0001  Student1   25    Male  60.212228          85       78.652064\n",
       "1     S0002  Student2   20    Male  96.532454         100       72.347071\n",
       "2     S0003  Student3   24  Female  79.203509          35       88.799927\n",
       "3     S0004  Student4   24    Male  65.519182          54       66.332211\n",
       "4     S0005  Student5   17    Male  62.680631          53       43.787086"
      ]
     },
     "execution_count": 85,
     "metadata": {},
     "output_type": "execute_result"
    }
   ],
   "source": [
    "pass_data.head()"
   ]
  },
  {
   "cell_type": "code",
   "execution_count": 86,
   "id": "e92daccc-427c-41af-b221-4f102ee82fd0",
   "metadata": {},
   "outputs": [],
   "source": [
    "#Functions\n",
    "def show():\n",
    "    print(\"This is show function\")"
   ]
  },
  {
   "cell_type": "code",
   "execution_count": 87,
   "id": "e378e317-876c-4291-8abf-0abaccf257b8",
   "metadata": {},
   "outputs": [
    {
     "name": "stdout",
     "output_type": "stream",
     "text": [
      "This is show function\n"
     ]
    }
   ],
   "source": [
    "show()"
   ]
  },
  {
   "cell_type": "code",
   "execution_count": 88,
   "id": "60cdf11f-b06c-4391-ab13-87392d4bf1c8",
   "metadata": {},
   "outputs": [],
   "source": [
    "def check(marks):\n",
    "    if marks>50:\n",
    "        print(\"pass\")\n",
    "    else:\n",
    "        print(\"fail\")"
   ]
  },
  {
   "cell_type": "code",
   "execution_count": 89,
   "id": "75bbd934-b011-4775-8c59-b7f87fb000dc",
   "metadata": {},
   "outputs": [
    {
     "name": "stdout",
     "output_type": "stream",
     "text": [
      "pass\n"
     ]
    }
   ],
   "source": [
    "check(80)"
   ]
  },
  {
   "cell_type": "code",
   "execution_count": 90,
   "id": "0ce08002-a9c3-4559-b61b-b0bcfbb91fea",
   "metadata": {},
   "outputs": [],
   "source": [
    "#def sum(n1,n2)"
   ]
  },
  {
   "cell_type": "code",
   "execution_count": 92,
   "id": "8a197ecc-8f1e-4071-ac2b-eeb8719e6211",
   "metadata": {},
   "outputs": [],
   "source": [
    "import matplotlib.pyplot as plt"
   ]
  },
  {
   "cell_type": "code",
   "execution_count": 93,
   "id": "fd500645-cbce-4978-ab55-bfd3881f7c4c",
   "metadata": {},
   "outputs": [
    {
     "data": {
      "text/plain": [
       "[<matplotlib.lines.Line2D at 0x24bb3b3da30>]"
      ]
     },
     "execution_count": 93,
     "metadata": {},
     "output_type": "execute_result"
    },
    {
     "data": {
      "image/png": "[encoded data removed]",
      "text/plain": [
       "<Figure size 640x480 with 1 Axes>"
      ]
     },
     "metadata": {},
     "output_type": "display_data"
    }
   ],
   "source": [
    "marks=[45,67,90]\n",
    "name=[\"ali\", \"ahmed\", \"muhammad\"]\n",
    "plt.plot(name, marks)"
   ]
  },
  {
   "cell_type": "code",
   "execution_count": 94,
   "id": "062d7041-25c5-47d7-b9df-b6c636b2062c",
   "metadata": {},
   "outputs": [
    {
     "data": {
      "text/plain": [
       "<BarContainer object of 3 artists>"
      ]
     },
     "execution_count": 94,
     "metadata": {},
     "output_type": "execute_result"
    },
    {
     "data": {
      "image/png": "[encoded data removed]",
      "text/plain": [
       "<Figure size 640x480 with 1 Axes>"
      ]
     },
     "metadata": {},
     "output_type": "display_data"
    }
   ],
   "source": [
    "plt.bar(name, marks)"
   ]
  },
  {
   "cell_type": "code",
   "execution_count": null,
   "id": "882068a1-2fee-4673-8c1d-5081d324b6c6",
   "metadata": {},
   "outputs": [
    {
     "name": "stdin",
     "output_type": "stream",
     "text": [
      "enter passkey 456\n"
     ]
    },
    {
     "name": "stdout",
     "output_type": "stream",
     "text": [
      "Invalid password\n"
     ]
    }
   ],
   "source": [
    "pk=\"123\"\n",
    "num=input(\"enter passkey\")\n",
    "while(num!=pk):\n",
    "    print(\"Invalid password\")\n",
    "    num=input(\"enter passkey\")\n",
    "    "
   ]
  },
  {
   "cell_type": "code",
   "execution_count": null,
   "id": "84a033cc-a566-48ad-adf9-cef5ee31b3ec",
   "metadata": {},
   "outputs": [],
   "source": []
  }
 ],
 "metadata": {
  "kernelspec": {
   "display_name": "Python 3 (ipykernel)",
   "language": "python",
   "name": "python3"
  },
  "language_info": {
   "codemirror_mode": {
    "name": "ipython",
    "version": 3
   },
   "file_extension": ".py",
   "mimetype": "text/x-python",
   "name": "python",
   "nbconvert_exporter": "python",
   "pygments_lexer": "ipython3",
   "version": "3.12.7"
  }
 },
 "nbformat": 4,
 "nbformat_minor": 5
}
