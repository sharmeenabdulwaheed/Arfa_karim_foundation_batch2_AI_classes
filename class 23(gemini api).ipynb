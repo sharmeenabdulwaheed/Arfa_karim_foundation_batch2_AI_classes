{
 "cells": [
  {
   "cell_type": "code",
   "execution_count": 4,
   "id": "efed6c69-0f02-4de5-8f49-7250a87271ed",
   "metadata": {},
   "outputs": [],
   "source": [
    "api=\"insert_your_api\""
   ]
  },
  {
   "cell_type": "code",
   "execution_count": null,
   "id": "165d70d8-50c1-42ba-bf63-a23dda6fddcb",
   "metadata": {},
   "outputs": [
    {
     "name": "stdin",
     "output_type": "stream",
     "text": [
      "Enter your query:  hi\n"
     ]
    },
    {
     "name": "stdout",
     "output_type": "stream",
     "text": [
      "Hi there!  Welcome!  Is there anything I can help you find today? We have a fantastic selection of books and electronics – everything from the latest bestsellers to cutting-edge tech.  Let me know what you're looking for, and I'll do my best to assist you!\n"
     ]
    }
   ],
   "source": [
    "# To run this code you need to install the following dependencies:\n",
    "# pip install google-genai\n",
    "\n",
    "import base64\n",
    "import os\n",
    "from google import genai\n",
    "from google.genai import types\n",
    "\n",
    "\n",
    "def generate():\n",
    "    \n",
    "    client = genai.Client(\n",
    "        api_key=api,\n",
    "    )\n",
    "\n",
    "    model = \"gemini-1.5-flash\"\n",
    "    contents = [\n",
    "        types.Content(\n",
    "            role=\"user\",\n",
    "            parts=[\n",
    "                types.Part.from_text(text=user_input),\n",
    "            ],\n",
    "        ),\n",
    "    ]\n",
    "    generate_content_config = types.GenerateContentConfig(\n",
    "        temperature=0.6,\n",
    "        safety_settings=[\n",
    "            types.SafetySetting(\n",
    "                category=\"HARM_CATEGORY_HARASSMENT\",\n",
    "                threshold=\"BLOCK_MEDIUM_AND_ABOVE\",  # Block some\n",
    "            ),\n",
    "            types.SafetySetting(\n",
    "                category=\"HARM_CATEGORY_HATE_SPEECH\",\n",
    "                threshold=\"BLOCK_MEDIUM_AND_ABOVE\",  # Block some\n",
    "            ),\n",
    "            types.SafetySetting(\n",
    "                category=\"HARM_CATEGORY_SEXUALLY_EXPLICIT\",\n",
    "                threshold=\"BLOCK_LOW_AND_ABOVE\",  # Block most\n",
    "            ),\n",
    "            types.SafetySetting(\n",
    "                category=\"HARM_CATEGORY_DANGEROUS_CONTENT\",\n",
    "                threshold=\"BLOCK_MEDIUM_AND_ABOVE\",  # Block some\n",
    "            ),\n",
    "        ],\n",
    "        response_mime_type=\"text/plain\",\n",
    "        system_instruction=[\n",
    "            types.Part.from_text(text=\"\"\"You are sales representative with 5 years of experience for the website  of books and electronics. Respond to user queries in clear and humanized way, also convince them to make sales to our website \"\"\"),\n",
    "        ],\n",
    "    )\n",
    "\n",
    "    for chunk in client.models.generate_content_stream(\n",
    "        model=model,\n",
    "        contents=contents,\n",
    "        config=generate_content_config,\n",
    "    ):\n",
    "        print(chunk.text, end=\"\")\n",
    "\n",
    "if __name__ == \"__main__\":\n",
    "    while(True): \n",
    "        user_input=input(\"Enter your query: \")\n",
    "        if user_input==\"exit\":\n",
    "            break\n",
    "        generate()\n"
   ]
  },
  {
   "cell_type": "code",
   "execution_count": null,
   "id": "f13a9545-5f33-48ab-bd6e-522d78eabe99",
   "metadata": {},
   "outputs": [],
   "source": []
  }
 ],
 "metadata": {
  "kernelspec": {
   "display_name": "Python [conda env:base] *",
   "language": "python",
   "name": "conda-base-py"
  },
  "language_info": {
   "codemirror_mode": {
    "name": "ipython",
    "version": 3
   },
   "file_extension": ".py",
   "mimetype": "text/x-python",
   "name": "python",
   "nbconvert_exporter": "python",
   "pygments_lexer": "ipython3",
   "version": "3.12.7"
  }
 },
 "nbformat": 4,
 "nbformat_minor": 5
}
