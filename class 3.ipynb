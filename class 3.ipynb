{
 "cells": [
  {
   "cell_type": "code",
   "execution_count": null,
   "id": "143e7651-a377-4a24-993e-d2c084718574",
   "metadata": {},
   "outputs": [],
   "source": [
    "##Write a program that input 10 numbers from  user and print their sum.\n",
    "#Write a program that input 5 numbers from user and print the largest\n",
    "#nested if to ensure that user enter valid marks(input validation)\n",
    "#print tables\n",
    "#print largest of three\n",
    "#print smallest\n",
    "#print odd/even numbers within a given range\n",
    "#intro to list and numpy arrays"
   ]
  },
  {
   "cell_type": "code",
   "execution_count": 25,
   "id": "398a66ea-e660-40ab-b2b5-159cf7ddb8b9",
   "metadata": {},
   "outputs": [
    {
     "data": {
      "text/plain": [
       "True"
      ]
     },
     "execution_count": 25,
     "metadata": {},
     "output_type": "execute_result"
    }
   ],
   "source": [
    "age=12\n",
    "age>=0"
   ]
  },
  {
   "cell_type": "code",
   "execution_count": 12,
   "id": "bc87334a-9dbd-4f51-a6cf-cec875e0add5",
   "metadata": {},
   "outputs": [
    {
     "data": {
      "text/plain": [
       "True"
      ]
     },
     "execution_count": 12,
     "metadata": {},
     "output_type": "execute_result"
    }
   ],
   "source": [
    "age<=12"
   ]
  },
  {
   "cell_type": "code",
   "execution_count": 13,
   "id": "67d2a47b-77e3-496f-9bcf-2cd071b42b47",
   "metadata": {},
   "outputs": [
    {
     "data": {
      "text/plain": [
       "True"
      ]
     },
     "execution_count": 13,
     "metadata": {},
     "output_type": "execute_result"
    }
   ],
   "source": [
    "age>=0 and  age<=12"
   ]
  },
  {
   "cell_type": "code",
   "execution_count": 14,
   "id": "259e3963-4750-4b88-baf4-577ceac193e9",
   "metadata": {},
   "outputs": [
    {
     "name": "stdout",
     "output_type": "stream",
     "text": [
      "child\n"
     ]
    }
   ],
   "source": [
    "if(age>=0 and age<=12):\n",
    "    print(\"child\")"
   ]
  },
  {
   "cell_type": "code",
   "execution_count": 16,
   "id": "672f56f6-bb78-4df3-a70f-b75758f3f471",
   "metadata": {},
   "outputs": [
    {
     "name": "stdin",
     "output_type": "stream",
     "text": [
      "enter 1st number:  4\n",
      "enter 2nd number:  7\n",
      "enter 3rd number:  3\n"
     ]
    },
    {
     "name": "stdout",
     "output_type": "stream",
     "text": [
      "largest number is 7\n"
     ]
    }
   ],
   "source": [
    "num1=int(input(\"enter 1st number: \"))\n",
    "num2=int(input(\"enter 2nd number: \"))\n",
    "num3=int(input(\"enter 3rd number: \"))\n",
    "\n",
    "if(num1>num2 and num1>num3):\n",
    "    print(\"largest number is : \", num1)\n",
    "elif(num2>num1 and num2>num3):\n",
    "    print(\"largest number is\", num2)\n",
    "else:\n",
    "    print(\"Largest number is \", num3)"
   ]
  },
  {
   "cell_type": "code",
   "execution_count": 17,
   "id": "8aed84cc-7586-425c-9bf5-aaaab5673e3c",
   "metadata": {},
   "outputs": [
    {
     "name": "stdout",
     "output_type": "stream",
     "text": [
      "inside loop\n",
      "inside loop\n",
      "inside loop\n",
      "inside loop\n",
      "inside loop\n"
     ]
    }
   ],
   "source": [
    "i=1\n",
    "while(i<=5):\n",
    "    print(\"inside loop\")\n",
    "    i=i+1"
   ]
  },
  {
   "cell_type": "code",
   "execution_count": 18,
   "id": "7b0d651d-9338-4bc5-97f8-075d8881f305",
   "metadata": {},
   "outputs": [
    {
     "name": "stdout",
     "output_type": "stream",
     "text": [
      "inside loop\n",
      "inside loop\n",
      "inside loop\n"
     ]
    }
   ],
   "source": [
    "i=1\n",
    "while(i<=5):\n",
    "    print(\"inside loop\")\n",
    "    i=i+2"
   ]
  },
  {
   "cell_type": "code",
   "execution_count": 20,
   "id": "c85f8249-de48-46be-9aee-dab3d6ec9a3a",
   "metadata": {},
   "outputs": [
    {
     "name": "stdin",
     "output_type": "stream",
     "text": [
      "Enter number:  1\n",
      "Enter number:  2\n",
      "Enter number:  3\n",
      "Enter number:  4\n",
      "Enter number:  5\n"
     ]
    },
    {
     "name": "stdout",
     "output_type": "stream",
     "text": [
      "Outside loop\n",
      "The sum is  15\n"
     ]
    }
   ],
   "source": [
    "sum=0\n",
    "i=1\n",
    "while(i<=5):\n",
    "    num=int(input(\"Enter number: \"))\n",
    "    sum=sum+num\n",
    "    i=i+1\n",
    "\n",
    "print(\"Outside loop\")\n",
    "print(\"The sum is \", sum)"
   ]
  },
  {
   "cell_type": "code",
   "execution_count": 22,
   "id": "98ff77df-ac23-4668-a65f-0baba9274672",
   "metadata": {},
   "outputs": [],
   "source": [
    "##modulus operator\n",
    "#65%5"
   ]
  },
  {
   "cell_type": "code",
   "execution_count": 23,
   "id": "89c391a8-cec0-471c-9bd6-b15a674da55d",
   "metadata": {},
   "outputs": [
    {
     "name": "stdout",
     "output_type": "stream",
     "text": [
      "0\n",
      "2\n",
      "4\n",
      "6\n",
      "8\n",
      "10\n",
      "12\n",
      "14\n",
      "16\n",
      "18\n",
      "20\n"
     ]
    }
   ],
   "source": [
    "i=0\n",
    "while(i<=20):\n",
    "    if(i%2==0):\n",
    "        print (i)\n",
    "    i=i+1"
   ]
  },
  {
   "cell_type": "code",
   "execution_count": 24,
   "id": "3d418ae6-92dc-4f83-b48b-6260125b1ce0",
   "metadata": {},
   "outputs": [
    {
     "name": "stdout",
     "output_type": "stream",
     "text": [
      "0\n",
      "2\n",
      "4\n",
      "6\n",
      "8\n",
      "10\n",
      "12\n",
      "14\n",
      "16\n",
      "18\n"
     ]
    }
   ],
   "source": [
    "i=0\n",
    "while(i<20):\n",
    "    print(i)\n",
    "    i=i+2"
   ]
  },
  {
   "cell_type": "code",
   "execution_count": 27,
   "id": "63747107-89cb-4e22-bc1a-38921eb397c8",
   "metadata": {},
   "outputs": [
    {
     "name": "stdin",
     "output_type": "stream",
     "text": [
      "Enter number:  34\n",
      "Enter number:  12\n",
      "Enter number:  1\n",
      "Enter number:  3\n",
      "Enter number:  35\n"
     ]
    },
    {
     "name": "stdout",
     "output_type": "stream",
     "text": [
      "The largest number is:  35\n"
     ]
    }
   ],
   "source": [
    "i=1\n",
    "largest=0\n",
    "while(i<=5):\n",
    "    num=int(input(\"Enter number: \"))\n",
    "    if(num>largest):\n",
    "        largest=num\n",
    "    i=i+1\n",
    "\n",
    "print(\"The largest number is: \", largest)"
   ]
  },
  {
   "cell_type": "code",
   "execution_count": null,
   "id": "908da1e8-66c1-4a2b-b8d3-4f576fdde878",
   "metadata": {},
   "outputs": [],
   "source": [
    "num1=int(input(\"enter number 1:\"))\n",
    "smallest=num1\n",
    "#complete this program"
   ]
  },
  {
   "cell_type": "code",
   "execution_count": 29,
   "id": "31b9b104-5f29-4194-a67c-f8242ee5657f",
   "metadata": {},
   "outputs": [
    {
     "name": "stdin",
     "output_type": "stream",
     "text": [
      "Enter your marks?  56\n"
     ]
    },
    {
     "name": "stdout",
     "output_type": "stream",
     "text": [
      "Marks are valid\n",
      "User is pass\n"
     ]
    }
   ],
   "source": [
    "#user enter marks betweem 0-100 and print pass/fail\n",
    "marks=int(input(\"Enter your marks? \"))\n",
    "if(marks>=0 and marks<=100):\n",
    "    print(\"Marks are valid\")\n",
    "    if(marks>50):\n",
    "        print(\"User is pass\")\n",
    "    else:\n",
    "        print(\"User is fail\")\n",
    "else:\n",
    "    print(\"Marks are invalid\")"
   ]
  },
  {
   "cell_type": "code",
   "execution_count": 30,
   "id": "fb5a849f-5284-4246-abf0-264c168e8302",
   "metadata": {},
   "outputs": [
    {
     "name": "stdin",
     "output_type": "stream",
     "text": [
      "Enter anything pasta\n"
     ]
    },
    {
     "name": "stdout",
     "output_type": "stream",
     "text": [
      "You entered :  pasta\n"
     ]
    },
    {
     "name": "stdin",
     "output_type": "stream",
     "text": [
      "Enter anything laptop\n"
     ]
    },
    {
     "name": "stdout",
     "output_type": "stream",
     "text": [
      "You entered :  laptop\n"
     ]
    },
    {
     "name": "stdin",
     "output_type": "stream",
     "text": [
      "Enter anything mobile\n"
     ]
    },
    {
     "name": "stdout",
     "output_type": "stream",
     "text": [
      "You entered :  mobile\n"
     ]
    },
    {
     "name": "stdin",
     "output_type": "stream",
     "text": [
      "Enter anything stop\n"
     ]
    },
    {
     "name": "stdout",
     "output_type": "stream",
     "text": [
      "You entered :  stop\n"
     ]
    }
   ],
   "source": [
    "user=\" \"\n",
    "while(user!=\"stop\"):\n",
    "    user=input(\"Enter anything\")\n",
    "    print(\"You entered : \", user)\n",
    "\n",
    "print(\"Outside loop\")"
   ]
  },
  {
   "cell_type": "code",
   "execution_count": 34,
   "id": "19d52cca-6aad-41ce-bf5f-64f46bb89507",
   "metadata": {},
   "outputs": [
    {
     "name": "stdin",
     "output_type": "stream",
     "text": [
      "Enter the number 2\n"
     ]
    },
    {
     "name": "stdout",
     "output_type": "stream",
     "text": [
      "2 x 1  =  2\n",
      "2 x 2  =  4\n",
      "2 x 3  =  6\n",
      "2 x 4  =  8\n",
      "2 x 5  =  10\n",
      "2 x 6  =  12\n",
      "2 x 7  =  14\n",
      "2 x 8  =  16\n",
      "2 x 9  =  18\n",
      "2 x 10  =  20\n",
      "2 x 11  =  22\n",
      "2 x 12  =  24\n",
      "2 x 13  =  26\n",
      "2 x 14  =  28\n",
      "2 x 15  =  30\n",
      "2 x 16  =  32\n",
      "2 x 17  =  34\n",
      "2 x 18  =  36\n",
      "2 x 19  =  38\n",
      "2 x 20  =  40\n"
     ]
    }
   ],
   "source": [
    "#table of user entered number\n",
    "num=int(input(\"Enter the number\"))\n",
    "i=1\n",
    "while(i<=20):\n",
    "    product=num*i\n",
    "    print(num, \"x\", i, \" = \", product)\n",
    "    #print(f\"{num} x{i}= {product}\")\n",
    "    i=i+1"
   ]
  },
  {
   "cell_type": "code",
   "execution_count": 35,
   "id": "e4d3c4e5-e7aa-4d94-8743-28e560229da8",
   "metadata": {},
   "outputs": [],
   "source": [
    "#lists and arrays\n",
    "list_=[3,5,6,7,8,8]"
   ]
  },
  {
   "cell_type": "code",
   "execution_count": 36,
   "id": "b83cecb7-7f8f-4b5e-a124-508e6e2556f0",
   "metadata": {},
   "outputs": [
    {
     "data": {
      "text/plain": [
       "[3, 5, 6, 7, 8, 8]"
      ]
     },
     "execution_count": 36,
     "metadata": {},
     "output_type": "execute_result"
    }
   ],
   "source": [
    "list_"
   ]
  },
  {
   "cell_type": "code",
   "execution_count": 37,
   "id": "f6a1f50b-10ff-4570-b963-cb6616c2635a",
   "metadata": {},
   "outputs": [
    {
     "data": {
      "text/plain": [
       "['abc', 8.9, 9]"
      ]
     },
     "execution_count": 37,
     "metadata": {},
     "output_type": "execute_result"
    }
   ],
   "source": [
    "list1=[\"abc\", 8.9, 9]\n",
    "list1"
   ]
  },
  {
   "cell_type": "code",
   "execution_count": 40,
   "id": "7c3f69d3-b543-4214-a1e1-a11b7b8cb2c2",
   "metadata": {},
   "outputs": [
    {
     "name": "stdout",
     "output_type": "stream",
     "text": [
      "abc\n",
      "<class 'str'>\n",
      "8.9\n",
      "<class 'float'>\n",
      "9\n",
      "<class 'int'>\n"
     ]
    }
   ],
   "source": [
    "#for loops\n",
    "for i in list1:\n",
    "    print(i)\n",
    "    print(type(i))"
   ]
  },
  {
   "cell_type": "raw",
   "id": "c8e50957-5e8f-49ae-8cfd-3cd5d6917693",
   "metadata": {},
   "source": [
    "list=[1,2,3,5,6,7]"
   ]
  },
  {
   "cell_type": "code",
   "execution_count": 42,
   "id": "546010ec-d1f8-489d-a783-506eeffee95d",
   "metadata": {},
   "outputs": [],
   "source": [
    "list1=[1,2,3,5,6,7]"
   ]
  },
  {
   "cell_type": "code",
   "execution_count": 45,
   "id": "7e9586cd-adcf-4e1c-9991-dd4d47c722a9",
   "metadata": {},
   "outputs": [
    {
     "ename": "TypeError",
     "evalue": "'int' object is not callable",
     "output_type": "error",
     "traceback": [
      "\u001b[1;31m---------------------------------------------------------------------------\u001b[0m",
      "\u001b[1;31mTypeError\u001b[0m                                 Traceback (most recent call last)",
      "Cell \u001b[1;32mIn[45], line 1\u001b[0m\n\u001b[1;32m----> 1\u001b[0m \u001b[38;5;28msum\u001b[39m(list1)\n",
      "\u001b[1;31mTypeError\u001b[0m: 'int' object is not callable"
     ]
    }
   ],
   "source": [
    "sum(list1)"
   ]
  },
  {
   "cell_type": "code",
   "execution_count": 46,
   "id": "ddcc3294-1be0-4aa5-8c93-7b4479462695",
   "metadata": {},
   "outputs": [
    {
     "data": {
      "text/plain": [
       "7"
      ]
     },
     "execution_count": 46,
     "metadata": {},
     "output_type": "execute_result"
    }
   ],
   "source": [
    "max(list1)"
   ]
  },
  {
   "cell_type": "code",
   "execution_count": 47,
   "id": "efba8992-7c9a-4f51-b5c5-aa4dfc0cefdd",
   "metadata": {},
   "outputs": [
    {
     "data": {
      "text/plain": [
       "1"
      ]
     },
     "execution_count": 47,
     "metadata": {},
     "output_type": "execute_result"
    }
   ],
   "source": [
    "min(list1)"
   ]
  },
  {
   "cell_type": "code",
   "execution_count": 48,
   "id": "16120d05-742c-455e-95b3-f79553410cac",
   "metadata": {},
   "outputs": [],
   "source": [
    "list1=[\"abc\", 8.9, 9]\n"
   ]
  },
  {
   "cell_type": "code",
   "execution_count": 49,
   "id": "7cc3ef3e-6cd2-483c-95b6-7ceb64fb3ac8",
   "metadata": {},
   "outputs": [],
   "source": [
    "import numpy as np"
   ]
  },
  {
   "cell_type": "code",
   "execution_count": 51,
   "id": "a080810f-4972-486c-a9e6-324180cb879b",
   "metadata": {},
   "outputs": [],
   "source": [
    "list2=np.array(list1)"
   ]
  },
  {
   "cell_type": "code",
   "execution_count": 52,
   "id": "09b40811-9146-4e46-b3ee-42cb19dcc08f",
   "metadata": {},
   "outputs": [
    {
     "name": "stdout",
     "output_type": "stream",
     "text": [
      "abc\n",
      "<class 'numpy.str_'>\n",
      "8.9\n",
      "<class 'numpy.str_'>\n",
      "9\n",
      "<class 'numpy.str_'>\n"
     ]
    }
   ],
   "source": [
    "for i in list2:\n",
    "    print(i)\n",
    "    print(type(i))"
   ]
  },
  {
   "cell_type": "code",
   "execution_count": null,
   "id": "2fb0e852-6b81-4bfa-a0df-d24dcc6615ea",
   "metadata": {},
   "outputs": [
    {
     "name": "stdin",
     "output_type": "stream",
     "text": [
      "Enter number 1:  3\n",
      "Enter number 2:  4\n",
      "Which arthimetic opertaion you need to perform. You can enter +, x, /,-:  +\n"
     ]
    },
    {
     "name": "stdout",
     "output_type": "stream",
     "text": [
      "you have selected addition\n",
      "The result of your selected operation 7\n"
     ]
    }
   ],
   "source": [
    "while (True):\n",
    "    num1=int(input(\"Enter number 1: \"))\n",
    "    num2=int(input(\"Enter number 2: \"))\n",
    "    op=input(\"Which arthimetic opertaion you need to perform. You can enter +, x, /,-: \")\n",
    "    if( op==\"+\"):\n",
    "        print(\"you have selected addition\")\n",
    "        result=num1+num2\n",
    "    elif(op==\"-\"):\n",
    "        print(\"you have selected subtraction\")\n",
    "        result=num1-num2\n",
    "    elif(op==\"/\"):\n",
    "        print(\"You have selected division\")\n",
    "        result=num1/num2\n",
    "    elif(op==\"x\"):\n",
    "        print(\"You have selected multiplication\")\n",
    "        result= num1*num2\n",
    "    elif(op==\"stop\"):\n",
    "        break\n",
    "    else:\n",
    "        print(\"you have entered an invalid operator\")\n",
    "    \n",
    "    \n",
    "    print(\"The result of your selected operation\", result)\n"
   ]
  },
  {
   "cell_type": "code",
   "execution_count": null,
   "id": "e51f5f92-b205-4e4e-be60-bf8d609ef218",
   "metadata": {},
   "outputs": [],
   "source": []
  }
 ],
 "metadata": {
  "kernelspec": {
   "display_name": "Python 3 (ipykernel)",
   "language": "python",
   "name": "python3"
  },
  "language_info": {
   "codemirror_mode": {
    "name": "ipython",
    "version": 3
   },
   "file_extension": ".py",
   "mimetype": "text/x-python",
   "name": "python",
   "nbconvert_exporter": "python",
   "pygments_lexer": "ipython3",
   "version": "3.12.7"
  }
 },
 "nbformat": 4,
 "nbformat_minor": 5
}
