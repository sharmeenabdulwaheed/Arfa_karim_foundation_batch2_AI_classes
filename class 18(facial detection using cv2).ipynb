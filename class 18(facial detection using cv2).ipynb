{
 "cells": [
  {
   "cell_type": "code",
   "execution_count": 1,
   "id": "56e9febf-7938-483a-9cec-dfde35e94dc7",
   "metadata": {},
   "outputs": [],
   "source": [
    "import cv2"
   ]
  },
  {
   "cell_type": "code",
   "execution_count": 2,
   "id": "65778479-7257-4448-a740-308810c1f456",
   "metadata": {},
   "outputs": [],
   "source": [
    "img=cv2.imread(\"dog.png\")"
   ]
  },
  {
   "cell_type": "code",
   "execution_count": 3,
   "id": "47b1f5a4-8ee6-45f5-82ff-530a396d461c",
   "metadata": {},
   "outputs": [],
   "source": [
    "cv2.imshow(\"window title\", img)\n",
    "cv2.waitKey(0) \n",
    "cv2.destroyAllWindows()"
   ]
  },
  {
   "cell_type": "code",
   "execution_count": 4,
   "id": "af04cce8-24a4-4a5f-9ac6-63b906b63d3a",
   "metadata": {},
   "outputs": [],
   "source": [
    "cap=cv2.VideoCapture(0)\n",
    "while True:\n",
    "    ret, frames=cap.read()\n",
    "    cv2.imshow(\"Live Video\", frames)\n",
    "    if cv2.waitKey(1) & 0xff == ord('q'): \n",
    "        break\n",
    "cap.release() \n",
    "cv2.destroyAllWindows() "
   ]
  },
  {
   "cell_type": "markdown",
   "id": "8bfdf9e3-1645-4da4-b06a-d58e990ac62a",
   "metadata": {},
   "source": [
    "## facial detection using cv2"
   ]
  },
  {
   "cell_type": "code",
   "execution_count": 11,
   "id": "08e06438-de68-431d-b1e4-afe3a655a1cb",
   "metadata": {},
   "outputs": [],
   "source": [
    "face_cascade = cv2.CascadeClassifier(cv2.data.haarcascades + 'haarcascade_frontalface_default.xml')"
   ]
  },
  {
   "cell_type": "code",
   "execution_count": 19,
   "id": "39c864b8-94f6-4595-9079-c66414ce4c9c",
   "metadata": {},
   "outputs": [],
   "source": [
    "cap=cv2.VideoCapture(0)\n",
    "while True:\n",
    "    ret, frames= cap.read()\n",
    "    if not ret:\n",
    "        print(\"camera is not working properly\")\n",
    "        break\n",
    "    gray = cv2.cvtColor(frames, cv2.COLOR_BGR2GRAY)  \n",
    "    faces = face_cascade.detectMultiScale(gray, scaleFactor=1.3, minNeighbors=5, minSize=(30, 30)) \n",
    "    for (x,y,w,h) in faces:\n",
    "        cv2.rectangle(frames, (x,y), (x+w, y+h), (0,255,0),3)\n",
    "    cv2.imshow(\"Face Detection: \", frames)\n",
    "    if cv2.waitKey(1) & 0xff== ord('q'):\n",
    "        break\n",
    "cap.release()\n",
    "cv2.destroyAllWindows() "
   ]
  },
  {
   "cell_type": "code",
   "execution_count": null,
   "id": "50b16300-b29a-42e5-b6ef-bbbaca9e51c3",
   "metadata": {},
   "outputs": [],
   "source": []
  }
 ],
 "metadata": {
  "kernelspec": {
   "display_name": "Python [conda env:base] *",
   "language": "python",
   "name": "conda-base-py"
  },
  "language_info": {
   "codemirror_mode": {
    "name": "ipython",
    "version": 3
   },
   "file_extension": ".py",
   "mimetype": "text/x-python",
   "name": "python",
   "nbconvert_exporter": "python",
   "pygments_lexer": "ipython3",
   "version": "3.12.7"
  }
 },
 "nbformat": 4,
 "nbformat_minor": 5
}
