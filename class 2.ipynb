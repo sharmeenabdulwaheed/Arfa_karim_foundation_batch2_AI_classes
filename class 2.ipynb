{
 "cells": [
  {
   "cell_type": "code",
   "execution_count": 1,
   "id": "530a9e5d-e9da-480b-93e2-99aa9592bda2",
   "metadata": {},
   "outputs": [],
   "source": [
    "#revise if-else structure\n",
    "#multiple if (if-if, if-elif)\n",
    "#calculator, grade , traffic signal program\n",
    "#how loop works\n",
    "\n",
    "#input 10 numbers from user and print them\n",
    "#input 10 numbers from user and print thier sum/product"
   ]
  },
  {
   "cell_type": "code",
   "execution_count": 2,
   "id": "969b947e-750c-464e-8056-51e5fe8a723e",
   "metadata": {},
   "outputs": [
    {
     "data": {
      "text/plain": [
       "True"
      ]
     },
     "execution_count": 2,
     "metadata": {},
     "output_type": "execute_result"
    }
   ],
   "source": [
    "5==5"
   ]
  },
  {
   "cell_type": "code",
   "execution_count": 3,
   "id": "fbc5b01d-8ed8-4348-ab51-14436e0aedcb",
   "metadata": {},
   "outputs": [
    {
     "data": {
      "text/plain": [
       "False"
      ]
     },
     "execution_count": 3,
     "metadata": {},
     "output_type": "execute_result"
    }
   ],
   "source": [
    "5>7"
   ]
  },
  {
   "cell_type": "code",
   "execution_count": 4,
   "id": "90551e42-90c1-471a-a351-d3af00173344",
   "metadata": {},
   "outputs": [
    {
     "data": {
      "text/plain": [
       "True"
      ]
     },
     "execution_count": 4,
     "metadata": {},
     "output_type": "execute_result"
    }
   ],
   "source": [
    "5!=8"
   ]
  },
  {
   "cell_type": "code",
   "execution_count": 5,
   "id": "fc2ac303-dfa4-44fc-8db9-6e33c2966b44",
   "metadata": {},
   "outputs": [
    {
     "data": {
      "text/plain": [
       "False"
      ]
     },
     "execution_count": 5,
     "metadata": {},
     "output_type": "execute_result"
    }
   ],
   "source": [
    "5!=5"
   ]
  },
  {
   "cell_type": "code",
   "execution_count": 6,
   "id": "72ef20f4-389b-4d0b-9527-1bfb1c62517a",
   "metadata": {},
   "outputs": [
    {
     "data": {
      "text/plain": [
       "True"
      ]
     },
     "execution_count": 6,
     "metadata": {},
     "output_type": "execute_result"
    }
   ],
   "source": [
    "7<=18"
   ]
  },
  {
   "cell_type": "code",
   "execution_count": 7,
   "id": "4b083e49-0142-4fc7-918a-462c4b20bbe0",
   "metadata": {},
   "outputs": [],
   "source": [
    "#default input type is string, for calculation it should be converted to iny(type casting or conversion)"
   ]
  },
  {
   "cell_type": "code",
   "execution_count": null,
   "id": "5c092c1c-f1c3-4b4b-974d-4903e2d28976",
   "metadata": {},
   "outputs": [],
   "source": [
    "age=int(input(\"enter your age: \"))\n",
    "age=int(age)"
   ]
  },
  {
   "cell_type": "code",
   "execution_count": 8,
   "id": "41c2eb28-9fc7-4813-8875-9e388b644054",
   "metadata": {},
   "outputs": [
    {
     "name": "stdin",
     "output_type": "stream",
     "text": [
      "age:  15\n"
     ]
    }
   ],
   "source": [
    "age=input(\"age: \")"
   ]
  },
  {
   "cell_type": "code",
   "execution_count": 9,
   "id": "f036aa78-5a67-4b3b-9175-57de868a8045",
   "metadata": {},
   "outputs": [
    {
     "data": {
      "text/plain": [
       "str"
      ]
     },
     "execution_count": 9,
     "metadata": {},
     "output_type": "execute_result"
    }
   ],
   "source": [
    "type(age)"
   ]
  },
  {
   "cell_type": "code",
   "execution_count": 11,
   "id": "f389f1f3-87cc-4e58-88cb-55dc042c743a",
   "metadata": {},
   "outputs": [
    {
     "ename": "TypeError",
     "evalue": "can only concatenate str (not \"int\") to str",
     "output_type": "error",
     "traceback": [
      "\u001b[1;31m---------------------------------------------------------------------------\u001b[0m",
      "\u001b[1;31mTypeError\u001b[0m                                 Traceback (most recent call last)",
      "Cell \u001b[1;32mIn[11], line 1\u001b[0m\n\u001b[1;32m----> 1\u001b[0m age\u001b[38;5;241m+\u001b[39m\u001b[38;5;241m12\u001b[39m\n",
      "\u001b[1;31mTypeError\u001b[0m: can only concatenate str (not \"int\") to str"
     ]
    }
   ],
   "source": [
    "age+12\n",
    "#strings cannot perform regular calculation"
   ]
  },
  {
   "cell_type": "code",
   "execution_count": 12,
   "id": "5bea193a-3b84-4ca3-a72b-0a33ff01740d",
   "metadata": {},
   "outputs": [],
   "source": [
    "age=int(age)"
   ]
  },
  {
   "cell_type": "markdown",
   "id": "f175d1b5-5422-40a9-a87f-bfd86b495e45",
   "metadata": {},
   "source": [
    "## write a program that enter user age and tell if they are eligible for licsence or not"
   ]
  },
  {
   "cell_type": "code",
   "execution_count": 14,
   "id": "3adbad95-643c-4da3-a527-359ff7765e90",
   "metadata": {},
   "outputs": [
    {
     "name": "stdin",
     "output_type": "stream",
     "text": [
      "enter your age:  6\n"
     ]
    },
    {
     "name": "stdout",
     "output_type": "stream",
     "text": [
      "You are younger for driver liscense\n"
     ]
    }
   ],
   "source": [
    "age=int(input(\"enter your age: \"))\n",
    "if(age>=18):\n",
    "    print(\"you are eligible for license\")\n",
    "else:\n",
    "    print(\"You are younger for driver liscense\")"
   ]
  },
  {
   "cell_type": "code",
   "execution_count": 19,
   "id": "a89172fa-ab77-4ee3-9a85-237137eb8e17",
   "metadata": {},
   "outputs": [
    {
     "ename": "TypeError",
     "evalue": "can only concatenate str (not \"int\") to str",
     "output_type": "error",
     "traceback": [
      "\u001b[1;31m---------------------------------------------------------------------------\u001b[0m",
      "\u001b[1;31mTypeError\u001b[0m                                 Traceback (most recent call last)",
      "Cell \u001b[1;32mIn[19], line 1\u001b[0m\n\u001b[1;32m----> 1\u001b[0m \u001b[38;5;28mprint\u001b[39m(\u001b[38;5;124m\"\u001b[39m\u001b[38;5;124mYou entered\u001b[39m\u001b[38;5;124m\"\u001b[39m\u001b[38;5;241m+\u001b[39m age)\n",
      "\u001b[1;31mTypeError\u001b[0m: can only concatenate str (not \"int\") to str"
     ]
    }
   ],
   "source": [
    "print(\"You entered\"+ age)"
   ]
  },
  {
   "cell_type": "code",
   "execution_count": 21,
   "id": "753bfc72-b2ec-4873-a017-15aeb8e632f0",
   "metadata": {},
   "outputs": [
    {
     "name": "stdout",
     "output_type": "stream",
     "text": [
      "You entered: 6\n"
     ]
    }
   ],
   "source": [
    "print(\"You entered: \"+ str(age))\n"
   ]
  },
  {
   "cell_type": "code",
   "execution_count": 22,
   "id": "52becccc-296f-4fe9-9966-f3f678189ebd",
   "metadata": {},
   "outputs": [
    {
     "name": "stdout",
     "output_type": "stream",
     "text": [
      "You entered: 6\n"
     ]
    }
   ],
   "source": [
    "#formatted string method\n",
    "print(f\"You entered: {age}\")"
   ]
  },
  {
   "cell_type": "markdown",
   "id": "07e523a5-14de-4119-8369-de63fec1de79",
   "metadata": {},
   "source": [
    "## multiple ifs\n"
   ]
  },
  {
   "cell_type": "code",
   "execution_count": 24,
   "id": "c09c8dfb-2882-4073-b94d-61357db6fe5c",
   "metadata": {},
   "outputs": [
    {
     "name": "stdin",
     "output_type": "stream",
     "text": [
      "enter any value:  8\n"
     ]
    },
    {
     "name": "stdout",
     "output_type": "stream",
     "text": [
      "you entered 8\n",
      "your value is less than 10\n"
     ]
    }
   ],
   "source": [
    "a=input(\"enter any value: \")\n",
    "a=int(a)\n",
    "\n",
    "\n",
    "if(a==8):\n",
    "    print(\"you entered 8\")\n",
    "if(a==7):\n",
    "    print(\"you entered 7\")\n",
    "if(a<10):\n",
    "    print(\"your value is less than 10\")"
   ]
  },
  {
   "cell_type": "markdown",
   "id": "d04df991-655a-4d74-986c-733c48ab6a57",
   "metadata": {},
   "source": [
    "## if elif"
   ]
  },
  {
   "cell_type": "code",
   "execution_count": 26,
   "id": "f033cb8d-87fe-4614-b5dc-ef9b8bcce026",
   "metadata": {},
   "outputs": [
    {
     "name": "stdin",
     "output_type": "stream",
     "text": [
      "enter your marks:  13\n"
     ]
    },
    {
     "name": "stdout",
     "output_type": "stream",
     "text": [
      "you are fail\n"
     ]
    }
   ],
   "source": [
    "marks=input(\"enter your marks: \")\n",
    "marks=int(marks)\n",
    "\n",
    "if(marks>=80):\n",
    "    print(\"your grade is A\")\n",
    "elif(marks>=70):\n",
    "    print(\"your grade is B\")\n",
    "elif(marks>=60):\n",
    "    print(\"your grade is C\")\n",
    "else:\n",
    "    print(\"you are fail\")"
   ]
  },
  {
   "cell_type": "markdown",
   "id": "17399024-afbe-4893-8e5e-9bdca12058a6",
   "metadata": {},
   "source": [
    "## calculator program"
   ]
  },
  {
   "cell_type": "code",
   "execution_count": 29,
   "id": "df0580ab-3746-435a-a3f4-d908a46fba96",
   "metadata": {},
   "outputs": [
    {
     "name": "stdin",
     "output_type": "stream",
     "text": [
      "Enter number 1:  17\n",
      "Enter number 2:  5\n",
      "Which arthimetic opertaion you need to perform. You can enter +, x, /,-:  +\n"
     ]
    },
    {
     "name": "stdout",
     "output_type": "stream",
     "text": [
      "you have selected addition\n",
      "The result of your selected operation 22\n"
     ]
    }
   ],
   "source": [
    "num1=int(input(\"Enter number 1: \"))\n",
    "num2=int(input(\"Enter number 2: \"))\n",
    "op=input(\"Which arthimetic opertaion you need to perform. You can enter +, x, /,-: \")\n",
    "if( op==\"+\"):\n",
    "    print(\"you have selected addition\")\n",
    "    result=num1+num2\n",
    "elif(op==\"-\"):\n",
    "    print(\"you have selected subtraction\")\n",
    "    result=num1-num2\n",
    "elif(op==\"/\"):\n",
    "    print(\"You have selected division\")\n",
    "    result=num1/num2\n",
    "elif(op==\"x\"):\n",
    "    print(\"You have selected multiplication\")\n",
    "    result= num1*num2\n",
    "else:\n",
    "    print(\"you have entered an invalid operator\")\n",
    "\n",
    "\n",
    "print(\"The result of your selected operation\", result)\n"
   ]
  },
  {
   "cell_type": "code",
   "execution_count": 34,
   "id": "a45361c3-8572-4455-9713-869e9388059e",
   "metadata": {},
   "outputs": [],
   "source": [
    "#counter=0\n",
    "#while(counter<9):\n",
    "    #print(counter)"
   ]
  },
  {
   "cell_type": "code",
   "execution_count": 35,
   "id": "ee250881-8701-4bf7-91bc-749c7f57da53",
   "metadata": {},
   "outputs": [
    {
     "name": "stdout",
     "output_type": "stream",
     "text": [
      "0\n",
      "1\n",
      "2\n",
      "3\n",
      "4\n",
      "5\n",
      "6\n",
      "7\n",
      "8\n",
      "9\n",
      "10\n"
     ]
    }
   ],
   "source": [
    "counter=0\n",
    "while(counter<11):\n",
    "    print(counter)\n",
    "    counter= counter+1"
   ]
  },
  {
   "cell_type": "code",
   "execution_count": null,
   "id": "b4beaa5f-95c4-4d58-977d-01b9bf972648",
   "metadata": {},
   "outputs": [],
   "source": []
  }
 ],
 "metadata": {
  "kernelspec": {
   "display_name": "Python 3 (ipykernel)",
   "language": "python",
   "name": "python3"
  },
  "language_info": {
   "codemirror_mode": {
    "name": "ipython",
    "version": 3
   },
   "file_extension": ".py",
   "mimetype": "text/x-python",
   "name": "python",
   "nbconvert_exporter": "python",
   "pygments_lexer": "ipython3",
   "version": "3.12.7"
  }
 },
 "nbformat": 4,
 "nbformat_minor": 5
}
