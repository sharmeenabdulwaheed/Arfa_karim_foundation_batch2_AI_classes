{
 "cells": [
  {
   "cell_type": "code",
   "execution_count": 1,
   "id": "077eed94-c106-4176-9d53-ef5208121d62",
   "metadata": {},
   "outputs": [
    {
     "name": "stdout",
     "output_type": "stream",
     "text": [
      "79\n"
     ]
    }
   ],
   "source": [
    "print (79)"
   ]
  },
  {
   "cell_type": "code",
   "execution_count": 2,
   "id": "07cea2ce-50c2-4b7a-9189-cd241b822726",
   "metadata": {},
   "outputs": [
    {
     "name": "stdout",
     "output_type": "stream",
     "text": [
      "this is a laptop\n"
     ]
    }
   ],
   "source": [
    "print (\"this is a laptop\")"
   ]
  },
  {
   "cell_type": "code",
   "execution_count": 3,
   "id": "85bef92e-efe9-4da6-8fe9-98535514e83a",
   "metadata": {},
   "outputs": [
    {
     "name": "stdout",
     "output_type": "stream",
     "text": [
      "my name is ali\n"
     ]
    }
   ],
   "source": [
    "print (\"my name is ali\")"
   ]
  },
  {
   "cell_type": "code",
   "execution_count": 4,
   "id": "1a3f39c3-6e25-4183-b389-95603740f49c",
   "metadata": {},
   "outputs": [
    {
     "name": "stdin",
     "output_type": "stream",
     "text": [
      "enter your name:  sharmeen\n"
     ]
    },
    {
     "data": {
      "text/plain": [
       "'sharmeen'"
      ]
     },
     "execution_count": 4,
     "metadata": {},
     "output_type": "execute_result"
    }
   ],
   "source": [
    "input(\"enter your name: \")"
   ]
  },
  {
   "cell_type": "markdown",
   "id": "ce2ecb7a-e416-45fa-9f44-5491fa509f52",
   "metadata": {},
   "source": []
  },
  {
   "cell_type": "code",
   "execution_count": 5,
   "id": "9e2660fd-dbdc-4a5d-a1f3-b44e1f24a94a",
   "metadata": {},
   "outputs": [
    {
     "name": "stdin",
     "output_type": "stream",
     "text": [
      "enter your name:  ali\n"
     ]
    }
   ],
   "source": [
    "name=input(\"enter your name: \")"
   ]
  },
  {
   "cell_type": "code",
   "execution_count": 6,
   "id": "6d03cc51-4197-46fb-8cd3-632e4969e457",
   "metadata": {},
   "outputs": [
    {
     "data": {
      "text/plain": [
       "'ali'"
      ]
     },
     "execution_count": 6,
     "metadata": {},
     "output_type": "execute_result"
    }
   ],
   "source": [
    "name"
   ]
  },
  {
   "cell_type": "code",
   "execution_count": 7,
   "id": "a227a949-f638-4d0c-9f47-4e78186f7aa8",
   "metadata": {},
   "outputs": [
    {
     "name": "stdout",
     "output_type": "stream",
     "text": [
      "ali\n"
     ]
    }
   ],
   "source": [
    "print(name)"
   ]
  },
  {
   "cell_type": "code",
   "execution_count": 9,
   "id": "3ddd501a-77cc-4918-adc7-15fdfaaea669",
   "metadata": {},
   "outputs": [
    {
     "name": "stdout",
     "output_type": "stream",
     "text": [
      "your name is  ali\n"
     ]
    }
   ],
   "source": [
    "#concatenation and value retrieval \n",
    "print(\"your name is \", name)"
   ]
  },
  {
   "cell_type": "code",
   "execution_count": 10,
   "id": "44abf6bd-9f6b-4cf2-b854-da9d9d6b6017",
   "metadata": {},
   "outputs": [
    {
     "name": "stdin",
     "output_type": "stream",
     "text": [
      "enter number 1:  45\n",
      "enter number 2:  32\n"
     ]
    }
   ],
   "source": [
    "num1=input(\"enter number 1: \")\n",
    "num2=input(\"enter number 2: \")\n"
   ]
  },
  {
   "cell_type": "code",
   "execution_count": 11,
   "id": "d75d4900-2e11-4f23-ad33-707f8928329c",
   "metadata": {},
   "outputs": [
    {
     "data": {
      "text/plain": [
       "'45'"
      ]
     },
     "execution_count": 11,
     "metadata": {},
     "output_type": "execute_result"
    }
   ],
   "source": [
    "num1\n"
   ]
  },
  {
   "cell_type": "code",
   "execution_count": 12,
   "id": "33565751-085b-47ee-a0b0-06c300787302",
   "metadata": {},
   "outputs": [
    {
     "data": {
      "text/plain": [
       "'4532'"
      ]
     },
     "execution_count": 12,
     "metadata": {},
     "output_type": "execute_result"
    }
   ],
   "source": [
    "num1+num2"
   ]
  },
  {
   "cell_type": "code",
   "execution_count": 13,
   "id": "e41a7236-b40b-4e84-a8ad-117495230dbf",
   "metadata": {},
   "outputs": [
    {
     "data": {
      "text/plain": [
       "str"
      ]
     },
     "execution_count": 13,
     "metadata": {},
     "output_type": "execute_result"
    }
   ],
   "source": [
    "type(num1)"
   ]
  },
  {
   "cell_type": "code",
   "execution_count": 14,
   "id": "3aeb9a33-2895-4832-8475-4e15baf7fb2d",
   "metadata": {},
   "outputs": [
    {
     "data": {
      "text/plain": [
       "45"
      ]
     },
     "execution_count": 14,
     "metadata": {},
     "output_type": "execute_result"
    }
   ],
   "source": [
    "#explicit casting or type conversion\n",
    "int(num1)"
   ]
  },
  {
   "cell_type": "code",
   "execution_count": 15,
   "id": "f4020a12-7e3b-4ba2-8dfd-c78e241c5112",
   "metadata": {},
   "outputs": [
    {
     "data": {
      "text/plain": [
       "str"
      ]
     },
     "execution_count": 15,
     "metadata": {},
     "output_type": "execute_result"
    }
   ],
   "source": [
    "type(num1)"
   ]
  },
  {
   "cell_type": "code",
   "execution_count": 18,
   "id": "fa107625-9c8b-4c2e-bc38-d745cff3e505",
   "metadata": {},
   "outputs": [],
   "source": [
    "#explicit casting or type conversion\n",
    "num1=int(num1)\n",
    "num2=int(num2)"
   ]
  },
  {
   "cell_type": "code",
   "execution_count": 17,
   "id": "69577941-e80a-41aa-b188-ec2e04b9d4b9",
   "metadata": {},
   "outputs": [
    {
     "data": {
      "text/plain": [
       "int"
      ]
     },
     "execution_count": 17,
     "metadata": {},
     "output_type": "execute_result"
    }
   ],
   "source": [
    "type(num1)"
   ]
  },
  {
   "cell_type": "code",
   "execution_count": 20,
   "id": "89868cf3-0628-4352-aae5-8efbf9f7f906",
   "metadata": {},
   "outputs": [],
   "source": [
    "sum=num1+num2"
   ]
  },
  {
   "cell_type": "code",
   "execution_count": 21,
   "id": "4cd0f85c-b7cb-4499-ad32-a45070af7adb",
   "metadata": {},
   "outputs": [
    {
     "name": "stdout",
     "output_type": "stream",
     "text": [
      "The sum is  77\n"
     ]
    }
   ],
   "source": [
    "print(\"The sum is \", sum)"
   ]
  },
  {
   "cell_type": "code",
   "execution_count": 27,
   "id": "99cb5d8d-08f9-4fb1-aeca-b7a57fc15643",
   "metadata": {},
   "outputs": [
    {
     "name": "stdin",
     "output_type": "stream",
     "text": [
      "enter your marks:  40\n"
     ]
    }
   ],
   "source": [
    "marks= input(\"enter your marks: \")\n",
    "marks=int(marks)\n"
   ]
  },
  {
   "cell_type": "code",
   "execution_count": 30,
   "id": "03858ec5-41b6-4dd7-be18-71a31cd04d65",
   "metadata": {},
   "outputs": [
    {
     "name": "stdin",
     "output_type": "stream",
     "text": [
      "enter your marks:  14\n"
     ]
    },
    {
     "name": "stdout",
     "output_type": "stream",
     "text": [
      "you are fail\n"
     ]
    }
   ],
   "source": [
    "marks= input(\"enter your marks: \")\n",
    "marks=int(marks)\n",
    "if(marks>=50):\n",
    "    print(\"you are pass\")\n",
    "else:\n",
    "    print(\"you are fail\")"
   ]
  },
  {
   "cell_type": "code",
   "execution_count": null,
   "id": "c89c6703-a92f-46e1-8bcc-e469063b7531",
   "metadata": {},
   "outputs": [],
   "source": []
  }
 ],
 "metadata": {
  "kernelspec": {
   "display_name": "Python 3 (ipykernel)",
   "language": "python",
   "name": "python3"
  },
  "language_info": {
   "codemirror_mode": {
    "name": "ipython",
    "version": 3
   },
   "file_extension": ".py",
   "mimetype": "text/x-python",
   "name": "python",
   "nbconvert_exporter": "python",
   "pygments_lexer": "ipython3",
   "version": "3.12.7"
  }
 },
 "nbformat": 4,
 "nbformat_minor": 5
}
