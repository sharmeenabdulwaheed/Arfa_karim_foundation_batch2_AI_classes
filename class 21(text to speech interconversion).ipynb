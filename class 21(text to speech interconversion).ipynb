{
 "cells": [
  {
   "cell_type": "code",
   "execution_count": 1,
   "id": "e4c83c2d-e346-4aab-8a75-d671c8187195",
   "metadata": {},
   "outputs": [],
   "source": [
    "#!pip install SpeechRecognition\n",
    "#!pip install pyaudio"
   ]
  },
  {
   "cell_type": "markdown",
   "id": "5e06ae0e-4258-4a6f-9d22-47225d04e75b",
   "metadata": {},
   "source": [
    "## speech to text"
   ]
  },
  {
   "cell_type": "code",
   "execution_count": 3,
   "id": "56f5b555-2389-4c25-b425-f107659f5357",
   "metadata": {},
   "outputs": [],
   "source": [
    "import speech_recognition as sr"
   ]
  },
  {
   "cell_type": "code",
   "execution_count": 5,
   "id": "c8f6ad84-bacd-4e15-ac8b-69cb7b15f8eb",
   "metadata": {},
   "outputs": [],
   "source": [
    "recognize=sr.Recognizer()"
   ]
  },
  {
   "cell_type": "code",
   "execution_count": 20,
   "id": "4e54f17e-ab49-4459-bfa1-9ecb52f137e1",
   "metadata": {},
   "outputs": [
    {
     "name": "stdout",
     "output_type": "stream",
     "text": [
      "I am your translator.. lets convert your voice into text... \n",
      "Adjusting for ambient voice\n",
      "Listening...\n",
      "Now, I am recognizing your voice...\n",
      "مجھے باہر جانا ہے\n"
     ]
    }
   ],
   "source": [
    "with sr.Microphone() as source:\n",
    "    print(\"I am your translator.. lets convert your voice into text... \")\n",
    "    print(\"Adjusting for ambient voice\")\n",
    "    recognize.adjust_for_ambient_noise(source)\n",
    "    print(\"Listening...\")\n",
    "    audio=recognize.listen(source)\n",
    "\n",
    "try:\n",
    "    print(\"Now, I am recognizing your voice...\")\n",
    "    text=recognize.recognize_google(audio)\n",
    "    #text=recognize.recognize_google(audio, language=\"ur\"), to translate in urdu\n",
    "    print(text)\n",
    "\n",
    "except sr.UnknownValueError:\n",
    "    print(\"I am unable to recognize ur voice\")\n",
    "    "
   ]
  },
  {
   "cell_type": "markdown",
   "id": "2184756d-0412-4c56-9e34-55902a4c9660",
   "metadata": {},
   "source": [
    "## text to speech"
   ]
  },
  {
   "cell_type": "code",
   "execution_count": 27,
   "id": "97a0baa4-9421-4fca-9869-09a6fa0ab071",
   "metadata": {},
   "outputs": [],
   "source": [
    "#!pip install pyttsx3"
   ]
  },
  {
   "cell_type": "code",
   "execution_count": 29,
   "id": "5fe09692-3f77-459c-8a97-184259206b19",
   "metadata": {},
   "outputs": [],
   "source": [
    "import pyttsx3"
   ]
  },
  {
   "cell_type": "code",
   "execution_count": 31,
   "id": "62e7eb59-7ad7-44e4-b0ff-2c4db60b9553",
   "metadata": {},
   "outputs": [],
   "source": [
    "engine=pyttsx3.init()"
   ]
  },
  {
   "cell_type": "code",
   "execution_count": 33,
   "id": "78a33cdf-a659-4e69-bd2c-9b67a5328fa1",
   "metadata": {},
   "outputs": [],
   "source": [
    "engine.setProperty(\"rate\", 100) #words per minute\n",
    "engine.setProperty(\"volume\", 1) #betweem 0 and 1"
   ]
  },
  {
   "cell_type": "code",
   "execution_count": 35,
   "id": "98b7861f-de26-41a4-bf90-0b444355aa64",
   "metadata": {},
   "outputs": [],
   "source": [
    "voices=engine.getProperty(\"voices\")"
   ]
  },
  {
   "cell_type": "code",
   "execution_count": 37,
   "id": "ad099093-cded-46eb-a0ad-986dd309e14d",
   "metadata": {},
   "outputs": [
    {
     "data": {
      "text/plain": [
       "[<pyttsx3.voice.Voice at 0x1f71331ae10>,\n",
       " <pyttsx3.voice.Voice at 0x1f70af319d0>]"
      ]
     },
     "execution_count": 37,
     "metadata": {},
     "output_type": "execute_result"
    }
   ],
   "source": [
    "voices"
   ]
  },
  {
   "cell_type": "code",
   "execution_count": 45,
   "id": "96326cba-869f-451e-a460-3bcac5ff0ee6",
   "metadata": {},
   "outputs": [],
   "source": [
    "engine.setProperty(\"voice\", voices[0].id) #1 for female, 0 for male"
   ]
  },
  {
   "cell_type": "code",
   "execution_count": 47,
   "id": "f9ba92dd-c50e-480a-86d7-3a33bf8e2a95",
   "metadata": {},
   "outputs": [
    {
     "name": "stdin",
     "output_type": "stream",
     "text": [
      "enter text:   It can analyze large amounts of data quickly to support better decision-making in fields like healthcare, finance, and transportation. AI also enhances customer experiences through chatbots and personalized recommendations, making services faster and more convenient.\n"
     ]
    },
    {
     "name": "stdout",
     "output_type": "stream",
     "text": [
      "Text to speech interconversion done succesfully\n"
     ]
    }
   ],
   "source": [
    "text=input(\"enter text: \")\n",
    "engine.say(text)\n",
    "engine.runAndWait()\n",
    "print(\"Text to speech interconversion done succesfully\")"
   ]
  },
  {
   "cell_type": "code",
   "execution_count": null,
   "id": "4fd166f0-ba13-4efc-aab6-a90a52321b1d",
   "metadata": {},
   "outputs": [],
   "source": []
  }
 ],
 "metadata": {
  "kernelspec": {
   "display_name": "Python [conda env:base] *",
   "language": "python",
   "name": "conda-base-py"
  },
  "language_info": {
   "codemirror_mode": {
    "name": "ipython",
    "version": 3
   },
   "file_extension": ".py",
   "mimetype": "text/x-python",
   "name": "python",
   "nbconvert_exporter": "python",
   "pygments_lexer": "ipython3",
   "version": "3.12.7"
  }
 },
 "nbformat": 4,
 "nbformat_minor": 5
}
