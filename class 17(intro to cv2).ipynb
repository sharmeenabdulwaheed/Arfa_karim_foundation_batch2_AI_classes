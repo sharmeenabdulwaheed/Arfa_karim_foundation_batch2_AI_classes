{
 "cells": [
  {
   "cell_type": "code",
   "execution_count": 1,
   "id": "0caae998-829a-4b58-b363-91c956bfcca2",
   "metadata": {},
   "outputs": [],
   "source": [
    "import cv2"
   ]
  },
  {
   "cell_type": "code",
   "execution_count": 3,
   "id": "d0545a21-9664-4c0f-8849-48eeb30dca01",
   "metadata": {},
   "outputs": [],
   "source": [
    "img = cv2.imread(\"cat.png\") "
   ]
  },
  {
   "cell_type": "code",
   "execution_count": 12,
   "id": "b9ae6555-b62e-48dc-ab4f-3528f8d9a27c",
   "metadata": {},
   "outputs": [],
   "source": [
    "cv2.imshow(\"cat image\", img)\n",
    "cv2.waitKey(0) \n",
    "cv2.destroyAllWindows() "
   ]
  },
  {
   "cell_type": "code",
   "execution_count": null,
   "id": "0a205ec4-3643-448d-acae-4f1be66fd373",
   "metadata": {},
   "outputs": [],
   "source": [
    "cap = cv2.VideoCapture(0)\n",
    "While True: \n",
    "    ret, frame = cap.read() \n",
    "    cv2.imshow(\"video\", frames) \n",
    "    if cv2.waitKey(1) & 0xff == ord('q'): \n",
    "        break "
   ]
  },
  {
   "cell_type": "code",
   "execution_count": null,
   "id": "2e9075a1-4ded-4eb4-8cf7-64a005c02174",
   "metadata": {},
   "outputs": [],
   "source": []
  }
 ],
 "metadata": {
  "kernelspec": {
   "display_name": "Python [conda env:base] *",
   "language": "python",
   "name": "conda-base-py"
  },
  "language_info": {
   "codemirror_mode": {
    "name": "ipython",
    "version": 3
   },
   "file_extension": ".py",
   "mimetype": "text/x-python",
   "name": "python",
   "nbconvert_exporter": "python",
   "pygments_lexer": "ipython3",
   "version": "3.12.7"
  }
 },
 "nbformat": 4,
 "nbformat_minor": 5
}
